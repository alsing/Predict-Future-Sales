{
 "cells": [
  {
   "cell_type": "code",
   "execution_count": 1,
   "metadata": {
    "execution": {
     "iopub.execute_input": "2022-10-15T13:30:22.465970Z",
     "iopub.status.busy": "2022-10-15T13:30:22.465399Z",
     "iopub.status.idle": "2022-10-15T13:30:27.870132Z",
     "shell.execute_reply": "2022-10-15T13:30:27.869012Z",
     "shell.execute_reply.started": "2022-10-15T13:30:22.465846Z"
    }
   },
   "outputs": [],
   "source": [
    "import time\n",
    "import numpy as np\n",
    "import pandas as pd\n",
    "from xgboost import XGBRegressor\n",
    "from sklearn.metrics import mean_squared_error\n",
    "from sklearn.preprocessing import LabelEncoder\n",
    "from itertools import product\n",
    "import gc\n",
    "import optuna\n",
    "import shap\n",
    "from sklearn.ensemble import RandomForestRegressor"
   ]
  },
  {
   "cell_type": "code",
   "execution_count": 2,
   "metadata": {
    "execution": {
     "iopub.execute_input": "2022-10-15T13:30:29.139360Z",
     "iopub.status.busy": "2022-10-15T13:30:29.138771Z",
     "iopub.status.idle": "2022-10-15T13:30:31.905070Z",
     "shell.execute_reply": "2022-10-15T13:30:31.903932Z",
     "shell.execute_reply.started": "2022-10-15T13:30:29.139323Z"
    }
   },
   "outputs": [
    {
     "data": {
      "text/html": [
       "<div>\n",
       "<style scoped>\n",
       "    .dataframe tbody tr th:only-of-type {\n",
       "        vertical-align: middle;\n",
       "    }\n",
       "\n",
       "    .dataframe tbody tr th {\n",
       "        vertical-align: top;\n",
       "    }\n",
       "\n",
       "    .dataframe thead th {\n",
       "        text-align: right;\n",
       "    }\n",
       "</style>\n",
       "<table border=\"1\" class=\"dataframe\">\n",
       "  <thead>\n",
       "    <tr style=\"text-align: right;\">\n",
       "      <th></th>\n",
       "      <th>date</th>\n",
       "      <th>date_block_num</th>\n",
       "      <th>shop_id</th>\n",
       "      <th>item_id</th>\n",
       "      <th>item_price</th>\n",
       "      <th>item_cnt_day</th>\n",
       "    </tr>\n",
       "  </thead>\n",
       "  <tbody>\n",
       "    <tr>\n",
       "      <th>0</th>\n",
       "      <td>02.01.2013</td>\n",
       "      <td>0</td>\n",
       "      <td>59</td>\n",
       "      <td>22154</td>\n",
       "      <td>999.00</td>\n",
       "      <td>1.0</td>\n",
       "    </tr>\n",
       "    <tr>\n",
       "      <th>1</th>\n",
       "      <td>03.01.2013</td>\n",
       "      <td>0</td>\n",
       "      <td>25</td>\n",
       "      <td>2552</td>\n",
       "      <td>899.00</td>\n",
       "      <td>1.0</td>\n",
       "    </tr>\n",
       "    <tr>\n",
       "      <th>2</th>\n",
       "      <td>05.01.2013</td>\n",
       "      <td>0</td>\n",
       "      <td>25</td>\n",
       "      <td>2552</td>\n",
       "      <td>899.00</td>\n",
       "      <td>-1.0</td>\n",
       "    </tr>\n",
       "    <tr>\n",
       "      <th>3</th>\n",
       "      <td>06.01.2013</td>\n",
       "      <td>0</td>\n",
       "      <td>25</td>\n",
       "      <td>2554</td>\n",
       "      <td>1709.05</td>\n",
       "      <td>1.0</td>\n",
       "    </tr>\n",
       "    <tr>\n",
       "      <th>4</th>\n",
       "      <td>15.01.2013</td>\n",
       "      <td>0</td>\n",
       "      <td>25</td>\n",
       "      <td>2555</td>\n",
       "      <td>1099.00</td>\n",
       "      <td>1.0</td>\n",
       "    </tr>\n",
       "  </tbody>\n",
       "</table>\n",
       "</div>"
      ],
      "text/plain": [
       "         date  date_block_num  shop_id  item_id  item_price  item_cnt_day\n",
       "0  02.01.2013               0       59    22154      999.00           1.0\n",
       "1  03.01.2013               0       25     2552      899.00           1.0\n",
       "2  05.01.2013               0       25     2552      899.00          -1.0\n",
       "3  06.01.2013               0       25     2554     1709.05           1.0\n",
       "4  15.01.2013               0       25     2555     1099.00           1.0"
      ]
     },
     "execution_count": 2,
     "metadata": {},
     "output_type": "execute_result"
    }
   ],
   "source": [
    "def read_data(path: str, files: list):\n",
    "    dataframes = []\n",
    "    for file in files:\n",
    "        dataframes.append(pd.read_csv(path + file))\n",
    "    return dataframes\n",
    "\n",
    "\n",
    "path = '../input/competitive-data-science-predict-future-sales/'\n",
    "files = ['sales_train.csv', 'items.csv', 'shops.csv', 'item_categories.csv', 'test.csv']\n",
    "sales_train, items, shops, item_categories, test = read_data(path, files)\n",
    "sales_train.head()"
   ]
  },
  {
   "cell_type": "code",
   "execution_count": 3,
   "metadata": {
    "execution": {
     "iopub.execute_input": "2022-10-15T13:30:32.954209Z",
     "iopub.status.busy": "2022-10-15T13:30:32.953428Z",
     "iopub.status.idle": "2022-10-15T13:30:33.661193Z",
     "shell.execute_reply": "2022-10-15T13:30:33.659898Z",
     "shell.execute_reply.started": "2022-10-15T13:30:32.954161Z"
    }
   },
   "outputs": [],
   "source": [
    "def remove_outliers(df: pd.DataFrame, max_price: int, max_cnt: int):  \n",
    "    df = df[df['item_price'] > 0]\n",
    "    df = df[df['item_price'] < max_price]\n",
    "    df = df[df['item_cnt_day'] > 0]\n",
    "    df = df[df['item_cnt_day'] < max_cnt]\n",
    "    return df\n",
    "\n",
    "\n",
    "sales_train = remove_outliers(sales_train, 50000, 1000)"
   ]
  },
  {
   "cell_type": "code",
   "execution_count": 4,
   "metadata": {
    "execution": {
     "iopub.execute_input": "2022-10-15T13:30:34.393951Z",
     "iopub.status.busy": "2022-10-15T13:30:34.393486Z",
     "iopub.status.idle": "2022-10-15T13:30:34.487047Z",
     "shell.execute_reply": "2022-10-15T13:30:34.485638Z",
     "shell.execute_reply.started": "2022-10-15T13:30:34.393909Z"
    }
   },
   "outputs": [],
   "source": [
    "def remove_shop_duplicates(df_train: pd.DataFrame, df_test: pd.DataFrame, shop_dups: dict):\n",
    "    for shop1, shop2 in shop_dups.items():\n",
    "        df_train.loc[df_train['shop_id'] == shop1, 'shop_id'] = shop2\n",
    "        df_test.loc[df_test['shop_id'] == shop1, 'shop_id'] = shop2\n",
    "        \n",
    "\n",
    "shop_dups = {0: 57, 1: 58, 10: 11, 39: 40}\n",
    "remove_shop_duplicates(sales_train, test, shop_dups)"
   ]
  },
  {
   "cell_type": "code",
   "execution_count": 5,
   "metadata": {
    "execution": {
     "iopub.execute_input": "2022-10-15T13:30:35.180877Z",
     "iopub.status.busy": "2022-10-15T13:30:35.180446Z",
     "iopub.status.idle": "2022-10-15T13:30:35.202947Z",
     "shell.execute_reply": "2022-10-15T13:30:35.201819Z",
     "shell.execute_reply.started": "2022-10-15T13:30:35.180840Z"
    }
   },
   "outputs": [
    {
     "data": {
      "text/html": [
       "<div>\n",
       "<style scoped>\n",
       "    .dataframe tbody tr th:only-of-type {\n",
       "        vertical-align: middle;\n",
       "    }\n",
       "\n",
       "    .dataframe tbody tr th {\n",
       "        vertical-align: top;\n",
       "    }\n",
       "\n",
       "    .dataframe thead th {\n",
       "        text-align: right;\n",
       "    }\n",
       "</style>\n",
       "<table border=\"1\" class=\"dataframe\">\n",
       "  <thead>\n",
       "    <tr style=\"text-align: right;\">\n",
       "      <th></th>\n",
       "      <th>shop_name</th>\n",
       "      <th>shop_id</th>\n",
       "      <th>city</th>\n",
       "    </tr>\n",
       "  </thead>\n",
       "  <tbody>\n",
       "    <tr>\n",
       "      <th>0</th>\n",
       "      <td>!Якутск Орджоникидзе, 56 фран</td>\n",
       "      <td>0</td>\n",
       "      <td>28</td>\n",
       "    </tr>\n",
       "    <tr>\n",
       "      <th>1</th>\n",
       "      <td>!Якутск ТЦ \"Центральный\" фран</td>\n",
       "      <td>1</td>\n",
       "      <td>28</td>\n",
       "    </tr>\n",
       "    <tr>\n",
       "      <th>2</th>\n",
       "      <td>Адыгея ТЦ \"Мега\"</td>\n",
       "      <td>2</td>\n",
       "      <td>0</td>\n",
       "    </tr>\n",
       "    <tr>\n",
       "      <th>3</th>\n",
       "      <td>Балашиха ТРК \"Октябрь-Киномир\"</td>\n",
       "      <td>3</td>\n",
       "      <td>1</td>\n",
       "    </tr>\n",
       "    <tr>\n",
       "      <th>4</th>\n",
       "      <td>Волжский ТЦ \"Волга Молл\"</td>\n",
       "      <td>4</td>\n",
       "      <td>2</td>\n",
       "    </tr>\n",
       "  </tbody>\n",
       "</table>\n",
       "</div>"
      ],
      "text/plain": [
       "                        shop_name  shop_id  city\n",
       "0   !Якутск Орджоникидзе, 56 фран        0    28\n",
       "1   !Якутск ТЦ \"Центральный\" фран        1    28\n",
       "2                Адыгея ТЦ \"Мега\"        2     0\n",
       "3  Балашиха ТРК \"Октябрь-Киномир\"        3     1\n",
       "4        Волжский ТЦ \"Волга Молл\"        4     2"
      ]
     },
     "execution_count": 5,
     "metadata": {},
     "output_type": "execute_result"
    }
   ],
   "source": [
    "def create_city_feature(shops_df: pd.DataFrame, corrections: dict):\n",
    "    shops_df['city'] = shops_df['shop_name'].str.extract(r'(\\w+\\.*\\w*)')\n",
    "    for city1, city2 in corrections.items():        \n",
    "        shops_df.loc[shops_df.city == city1, 'city'] = city2\n",
    "    shops_df['city'] = LabelEncoder().fit_transform(shops['city'])\n",
    "    \n",
    "    \n",
    "corrections = {'Выездная': 'Выездная торговля', 'РостовНаДону': 'Ростов-На-Дону',\n",
    "               'Сергиев': 'Сергиев Посад', 'Цифровой': 'Интернет'}\n",
    "create_city_feature(shops, corrections)\n",
    "shops.head()"
   ]
  },
  {
   "cell_type": "code",
   "execution_count": 6,
   "metadata": {
    "execution": {
     "iopub.execute_input": "2022-10-15T13:30:35.833722Z",
     "iopub.status.busy": "2022-10-15T13:30:35.833336Z",
     "iopub.status.idle": "2022-10-15T13:30:36.229472Z",
     "shell.execute_reply": "2022-10-15T13:30:36.228215Z",
     "shell.execute_reply.started": "2022-10-15T13:30:35.833691Z"
    }
   },
   "outputs": [],
   "source": [
    "def find_shop_item_pairs(data: pd.DataFrame):\n",
    "    pairs = []\n",
    "    shops = data['shop_id'].unique()\n",
    "    for shop in shops:\n",
    "        pairs.append((shop, data[data['shop_id'] == shop]['item_id'].unique()))\n",
    "    return pairs\n",
    "\n",
    "\n",
    "shop_item_pairs = find_shop_item_pairs(sales_train)"
   ]
  },
  {
   "cell_type": "code",
   "execution_count": 7,
   "metadata": {
    "execution": {
     "iopub.execute_input": "2022-10-15T13:30:36.436860Z",
     "iopub.status.busy": "2022-10-15T13:30:36.436482Z",
     "iopub.status.idle": "2022-10-15T13:30:46.517425Z",
     "shell.execute_reply": "2022-10-15T13:30:46.516187Z",
     "shell.execute_reply.started": "2022-10-15T13:30:36.436828Z"
    }
   },
   "outputs": [
    {
     "data": {
      "text/html": [
       "<div>\n",
       "<style scoped>\n",
       "    .dataframe tbody tr th:only-of-type {\n",
       "        vertical-align: middle;\n",
       "    }\n",
       "\n",
       "    .dataframe tbody tr th {\n",
       "        vertical-align: top;\n",
       "    }\n",
       "\n",
       "    .dataframe thead th {\n",
       "        text-align: right;\n",
       "    }\n",
       "</style>\n",
       "<table border=\"1\" class=\"dataframe\">\n",
       "  <thead>\n",
       "    <tr style=\"text-align: right;\">\n",
       "      <th></th>\n",
       "      <th>date_block_num</th>\n",
       "      <th>shop_id</th>\n",
       "      <th>item_id</th>\n",
       "    </tr>\n",
       "  </thead>\n",
       "  <tbody>\n",
       "    <tr>\n",
       "      <th>0</th>\n",
       "      <td>0</td>\n",
       "      <td>59</td>\n",
       "      <td>22154</td>\n",
       "    </tr>\n",
       "    <tr>\n",
       "      <th>1</th>\n",
       "      <td>0</td>\n",
       "      <td>59</td>\n",
       "      <td>22151</td>\n",
       "    </tr>\n",
       "    <tr>\n",
       "      <th>2</th>\n",
       "      <td>0</td>\n",
       "      <td>59</td>\n",
       "      <td>5603</td>\n",
       "    </tr>\n",
       "    <tr>\n",
       "      <th>3</th>\n",
       "      <td>0</td>\n",
       "      <td>59</td>\n",
       "      <td>5587</td>\n",
       "    </tr>\n",
       "    <tr>\n",
       "      <th>4</th>\n",
       "      <td>0</td>\n",
       "      <td>59</td>\n",
       "      <td>5613</td>\n",
       "    </tr>\n",
       "    <tr>\n",
       "      <th>...</th>\n",
       "      <td>...</td>\n",
       "      <td>...</td>\n",
       "      <td>...</td>\n",
       "    </tr>\n",
       "    <tr>\n",
       "      <th>14218727</th>\n",
       "      <td>33</td>\n",
       "      <td>36</td>\n",
       "      <td>20231</td>\n",
       "    </tr>\n",
       "    <tr>\n",
       "      <th>14218728</th>\n",
       "      <td>33</td>\n",
       "      <td>36</td>\n",
       "      <td>20334</td>\n",
       "    </tr>\n",
       "    <tr>\n",
       "      <th>14218729</th>\n",
       "      <td>33</td>\n",
       "      <td>36</td>\n",
       "      <td>20339</td>\n",
       "    </tr>\n",
       "    <tr>\n",
       "      <th>14218730</th>\n",
       "      <td>33</td>\n",
       "      <td>36</td>\n",
       "      <td>20352</td>\n",
       "    </tr>\n",
       "    <tr>\n",
       "      <th>14218731</th>\n",
       "      <td>33</td>\n",
       "      <td>36</td>\n",
       "      <td>20602</td>\n",
       "    </tr>\n",
       "  </tbody>\n",
       "</table>\n",
       "<p>14218732 rows × 3 columns</p>\n",
       "</div>"
      ],
      "text/plain": [
       "          date_block_num  shop_id  item_id\n",
       "0                      0       59    22154\n",
       "1                      0       59    22151\n",
       "2                      0       59     5603\n",
       "3                      0       59     5587\n",
       "4                      0       59     5613\n",
       "...                  ...      ...      ...\n",
       "14218727              33       36    20231\n",
       "14218728              33       36    20334\n",
       "14218729              33       36    20339\n",
       "14218730              33       36    20352\n",
       "14218731              33       36    20602\n",
       "\n",
       "[14218732 rows x 3 columns]"
      ]
     },
     "execution_count": 7,
     "metadata": {},
     "output_type": "execute_result"
    }
   ],
   "source": [
    "def create_train(month_range: list, shops_items: list):\n",
    "    train = []\n",
    "    for month in month_range:\n",
    "        for shop, items in shops_items:\n",
    "            train.append(np.array(list(product([month], [shop], items))))\n",
    "    train = pd.DataFrame(np.vstack(train), columns=['date_block_num', 'shop_id', 'item_id'])\n",
    "    return train\n",
    "\n",
    "\n",
    "train = create_train(sales_train.date_block_num.unique(), shop_item_pairs)\n",
    "train"
   ]
  },
  {
   "cell_type": "code",
   "execution_count": 8,
   "metadata": {
    "execution": {
     "iopub.execute_input": "2022-10-15T13:30:46.520416Z",
     "iopub.status.busy": "2022-10-15T13:30:46.519956Z",
     "iopub.status.idle": "2022-10-15T13:30:55.321034Z",
     "shell.execute_reply": "2022-10-15T13:30:55.320188Z",
     "shell.execute_reply.started": "2022-10-15T13:30:46.520369Z"
    }
   },
   "outputs": [],
   "source": [
    "def aggregate_on_month_level(train_df: pd.DataFrame, sales_train_df: pd.DataFrame, test_df: pd.DataFrame):\n",
    "    group = sales_train_df.groupby(['date_block_num', 'shop_id', 'item_id']).agg({'item_cnt_day': 'sum', 'item_price': 'mean'}).reset_index()\n",
    "    group = group.rename(columns={'item_cnt_day': 'item_cnt_month', 'item_price': 'item_price_mean'})\n",
    "    all_data = train_df.merge(group, on=['date_block_num', 'shop_id', 'item_id'], how='left')\n",
    "    \n",
    "    test = test_df.merge(group[group['date_block_num'] == 33], on=['shop_id', 'item_id'], how='left')\n",
    "    test = test.fillna(0)    \n",
    "    test['date_block_num'] = 34\n",
    "\n",
    "    all_data = pd.concat([all_data, test.drop(columns='ID')], ignore_index=True, keys=['date_block_num', 'shop_id', 'item_id'])\n",
    "    all_data = all_data.fillna(0)\n",
    "    all_data['item_cnt_month'] = all_data['item_cnt_month'].clip(0,20)\n",
    "    return all_data\n",
    "\n",
    "\n",
    "all_data = aggregate_on_month_level(train, sales_train, test)"
   ]
  },
  {
   "cell_type": "code",
   "execution_count": 9,
   "metadata": {
    "execution": {
     "iopub.execute_input": "2022-10-15T13:30:55.322915Z",
     "iopub.status.busy": "2022-10-15T13:30:55.322396Z",
     "iopub.status.idle": "2022-10-15T13:31:31.240752Z",
     "shell.execute_reply": "2022-10-15T13:31:31.239654Z",
     "shell.execute_reply.started": "2022-10-15T13:30:55.322881Z"
    }
   },
   "outputs": [],
   "source": [
    "def add_lag_features(lag_months: list, month_range: range):\n",
    "    lags = pd.DataFrame()\n",
    "    for month in month_range:\n",
    "        cur_month = all_data[all_data.date_block_num == month]\n",
    "        for lag in lag_months:\n",
    "            cur_lag = all_data[all_data.date_block_num == month - lag]\n",
    "            cur_lag = cur_lag.rename({'item_cnt_month': 'item_cnt_last_{}'.format(lag),\n",
    "                                      'item_price_mean': 'item_price_last_{}'.format(lag)}, axis=1)\n",
    "\n",
    "            cur_item_lag = all_data[all_data.date_block_num == month - lag]\n",
    "            cur_item_lag = cur_item_lag.groupby(['item_id'], as_index=False).agg({'item_cnt_month': 'sum', 'item_price_mean': 'mean'})\n",
    "            cur_item_lag = cur_item_lag.rename({'item_cnt_month': 'item_cnt_last_{}_item'.format(lag),\n",
    "                                                'item_price_mean': 'item_price_last_{}_item'.format(lag)},\n",
    "                                                axis=1)\n",
    "\n",
    "            cur_month = cur_month.merge(cur_lag.drop(columns='date_block_num'), how='left',\n",
    "                                        on=['shop_id', 'item_id'])\n",
    "            cur_month = cur_month.merge(cur_item_lag,\n",
    "                                        how='left', on=['item_id'])\n",
    "        lags = pd.concat([lags, cur_month], ignore_index=True)\n",
    "        \n",
    "    lags = lags.fillna(0)\n",
    "    return lags\n",
    "\n",
    "lag_months = [1, 2, 3, 12]\n",
    "month_range = range(12, all_data.date_block_num.nunique())\n",
    "all_data = add_lag_features(lag_months, month_range)"
   ]
  },
  {
   "cell_type": "code",
   "execution_count": 10,
   "metadata": {
    "execution": {
     "iopub.execute_input": "2022-10-15T13:31:31.244680Z",
     "iopub.status.busy": "2022-10-15T13:31:31.243823Z",
     "iopub.status.idle": "2022-10-15T13:31:39.827012Z",
     "shell.execute_reply": "2022-10-15T13:31:39.825907Z",
     "shell.execute_reply.started": "2022-10-15T13:31:31.244624Z"
    }
   },
   "outputs": [
    {
     "data": {
      "text/html": [
       "<div>\n",
       "<style scoped>\n",
       "    .dataframe tbody tr th:only-of-type {\n",
       "        vertical-align: middle;\n",
       "    }\n",
       "\n",
       "    .dataframe tbody tr th {\n",
       "        vertical-align: top;\n",
       "    }\n",
       "\n",
       "    .dataframe thead th {\n",
       "        text-align: right;\n",
       "    }\n",
       "</style>\n",
       "<table border=\"1\" class=\"dataframe\">\n",
       "  <thead>\n",
       "    <tr style=\"text-align: right;\">\n",
       "      <th></th>\n",
       "      <th>date_block_num</th>\n",
       "      <th>shop_id</th>\n",
       "      <th>item_id</th>\n",
       "      <th>item_cnt_month</th>\n",
       "      <th>item_price_mean</th>\n",
       "      <th>item_cnt_last_1</th>\n",
       "      <th>item_price_last_1</th>\n",
       "      <th>item_cnt_last_1_item</th>\n",
       "      <th>item_price_last_1_item</th>\n",
       "      <th>item_cnt_last_2</th>\n",
       "      <th>...</th>\n",
       "      <th>item_price_last_3</th>\n",
       "      <th>item_cnt_last_3_item</th>\n",
       "      <th>item_price_last_3_item</th>\n",
       "      <th>item_cnt_last_12</th>\n",
       "      <th>item_price_last_12</th>\n",
       "      <th>item_cnt_last_12_item</th>\n",
       "      <th>item_price_last_12_item</th>\n",
       "      <th>city</th>\n",
       "      <th>item_category_id</th>\n",
       "      <th>new_item</th>\n",
       "    </tr>\n",
       "  </thead>\n",
       "  <tbody>\n",
       "    <tr>\n",
       "      <th>0</th>\n",
       "      <td>12</td>\n",
       "      <td>59</td>\n",
       "      <td>22154</td>\n",
       "      <td>0.0</td>\n",
       "      <td>0.0</td>\n",
       "      <td>0.0</td>\n",
       "      <td>0.0</td>\n",
       "      <td>1.0</td>\n",
       "      <td>41.625000</td>\n",
       "      <td>0.0</td>\n",
       "      <td>...</td>\n",
       "      <td>0.0</td>\n",
       "      <td>3.0</td>\n",
       "      <td>124.875000</td>\n",
       "      <td>1.0</td>\n",
       "      <td>999.0</td>\n",
       "      <td>18.0</td>\n",
       "      <td>582.750000</td>\n",
       "      <td>29</td>\n",
       "      <td>37</td>\n",
       "      <td>False</td>\n",
       "    </tr>\n",
       "    <tr>\n",
       "      <th>1</th>\n",
       "      <td>12</td>\n",
       "      <td>59</td>\n",
       "      <td>22151</td>\n",
       "      <td>0.0</td>\n",
       "      <td>0.0</td>\n",
       "      <td>0.0</td>\n",
       "      <td>0.0</td>\n",
       "      <td>0.0</td>\n",
       "      <td>0.000000</td>\n",
       "      <td>0.0</td>\n",
       "      <td>...</td>\n",
       "      <td>0.0</td>\n",
       "      <td>0.0</td>\n",
       "      <td>0.000000</td>\n",
       "      <td>2.0</td>\n",
       "      <td>399.0</td>\n",
       "      <td>239.0</td>\n",
       "      <td>357.833571</td>\n",
       "      <td>29</td>\n",
       "      <td>40</td>\n",
       "      <td>False</td>\n",
       "    </tr>\n",
       "    <tr>\n",
       "      <th>2</th>\n",
       "      <td>12</td>\n",
       "      <td>59</td>\n",
       "      <td>5603</td>\n",
       "      <td>0.0</td>\n",
       "      <td>0.0</td>\n",
       "      <td>0.0</td>\n",
       "      <td>0.0</td>\n",
       "      <td>4.0</td>\n",
       "      <td>57.384615</td>\n",
       "      <td>0.0</td>\n",
       "      <td>...</td>\n",
       "      <td>0.0</td>\n",
       "      <td>3.0</td>\n",
       "      <td>45.923077</td>\n",
       "      <td>1.0</td>\n",
       "      <td>699.0</td>\n",
       "      <td>6.0</td>\n",
       "      <td>145.011538</td>\n",
       "      <td>29</td>\n",
       "      <td>5</td>\n",
       "      <td>False</td>\n",
       "    </tr>\n",
       "    <tr>\n",
       "      <th>3</th>\n",
       "      <td>12</td>\n",
       "      <td>59</td>\n",
       "      <td>5587</td>\n",
       "      <td>0.0</td>\n",
       "      <td>0.0</td>\n",
       "      <td>0.0</td>\n",
       "      <td>0.0</td>\n",
       "      <td>21.0</td>\n",
       "      <td>69.574468</td>\n",
       "      <td>0.0</td>\n",
       "      <td>...</td>\n",
       "      <td>0.0</td>\n",
       "      <td>54.0</td>\n",
       "      <td>94.978723</td>\n",
       "      <td>2.0</td>\n",
       "      <td>199.0</td>\n",
       "      <td>67.0</td>\n",
       "      <td>118.605319</td>\n",
       "      <td>29</td>\n",
       "      <td>5</td>\n",
       "      <td>False</td>\n",
       "    </tr>\n",
       "    <tr>\n",
       "      <th>4</th>\n",
       "      <td>12</td>\n",
       "      <td>59</td>\n",
       "      <td>5613</td>\n",
       "      <td>0.0</td>\n",
       "      <td>0.0</td>\n",
       "      <td>1.0</td>\n",
       "      <td>6090.0</td>\n",
       "      <td>49.0</td>\n",
       "      <td>3107.142857</td>\n",
       "      <td>0.0</td>\n",
       "      <td>...</td>\n",
       "      <td>0.0</td>\n",
       "      <td>20.0</td>\n",
       "      <td>2052.333333</td>\n",
       "      <td>1.0</td>\n",
       "      <td>5571.0</td>\n",
       "      <td>15.0</td>\n",
       "      <td>1503.285714</td>\n",
       "      <td>29</td>\n",
       "      <td>2</td>\n",
       "      <td>False</td>\n",
       "    </tr>\n",
       "  </tbody>\n",
       "</table>\n",
       "<p>5 rows × 24 columns</p>\n",
       "</div>"
      ],
      "text/plain": [
       "   date_block_num  shop_id  item_id  item_cnt_month  item_price_mean  \\\n",
       "0              12       59    22154             0.0              0.0   \n",
       "1              12       59    22151             0.0              0.0   \n",
       "2              12       59     5603             0.0              0.0   \n",
       "3              12       59     5587             0.0              0.0   \n",
       "4              12       59     5613             0.0              0.0   \n",
       "\n",
       "   item_cnt_last_1  item_price_last_1  item_cnt_last_1_item  \\\n",
       "0              0.0                0.0                   1.0   \n",
       "1              0.0                0.0                   0.0   \n",
       "2              0.0                0.0                   4.0   \n",
       "3              0.0                0.0                  21.0   \n",
       "4              1.0             6090.0                  49.0   \n",
       "\n",
       "   item_price_last_1_item  item_cnt_last_2  ...  item_price_last_3  \\\n",
       "0               41.625000              0.0  ...                0.0   \n",
       "1                0.000000              0.0  ...                0.0   \n",
       "2               57.384615              0.0  ...                0.0   \n",
       "3               69.574468              0.0  ...                0.0   \n",
       "4             3107.142857              0.0  ...                0.0   \n",
       "\n",
       "   item_cnt_last_3_item  item_price_last_3_item  item_cnt_last_12  \\\n",
       "0                   3.0              124.875000               1.0   \n",
       "1                   0.0                0.000000               2.0   \n",
       "2                   3.0               45.923077               1.0   \n",
       "3                  54.0               94.978723               2.0   \n",
       "4                  20.0             2052.333333               1.0   \n",
       "\n",
       "   item_price_last_12  item_cnt_last_12_item  item_price_last_12_item  city  \\\n",
       "0               999.0                   18.0               582.750000    29   \n",
       "1               399.0                  239.0               357.833571    29   \n",
       "2               699.0                    6.0               145.011538    29   \n",
       "3               199.0                   67.0               118.605319    29   \n",
       "4              5571.0                   15.0              1503.285714    29   \n",
       "\n",
       "   item_category_id  new_item  \n",
       "0                37     False  \n",
       "1                40     False  \n",
       "2                 5     False  \n",
       "3                 5     False  \n",
       "4                 2     False  \n",
       "\n",
       "[5 rows x 24 columns]"
      ]
     },
     "execution_count": 10,
     "metadata": {},
     "output_type": "execute_result"
    }
   ],
   "source": [
    "items['first_sale_date'] = sales_train.groupby('item_id').agg({'date_block_num': 'min'})['date_block_num']\n",
    "items['first_sale_date'] = items['first_sale_date'].fillna(34)\n",
    "\n",
    "all_data = all_data.merge(shops[['shop_id', 'city']], on='shop_id', how='left')\n",
    "all_data = all_data.merge(items[['item_id', 'item_category_id', 'first_sale_date']], on='item_id', how='left')\n",
    "all_data = all_data.merge(item_categories.drop('item_category_name', axis=1), on='item_category_id', how='left')\n",
    "\n",
    "all_data['new_item'] = all_data['first_sale_date'] == all_data['date_block_num']\n",
    "all_data = all_data.drop('first_sale_date', axis=1)\n",
    "\n",
    "all_data.head()"
   ]
  },
  {
   "cell_type": "code",
   "execution_count": 11,
   "metadata": {
    "execution": {
     "iopub.execute_input": "2022-10-15T13:31:39.828529Z",
     "iopub.status.busy": "2022-10-15T13:31:39.828208Z",
     "iopub.status.idle": "2022-10-15T13:31:39.993824Z",
     "shell.execute_reply": "2022-10-15T13:31:39.992567Z",
     "shell.execute_reply.started": "2022-10-15T13:31:39.828501Z"
    }
   },
   "outputs": [
    {
     "data": {
      "text/plain": [
       "64"
      ]
     },
     "execution_count": 11,
     "metadata": {},
     "output_type": "execute_result"
    }
   ],
   "source": [
    "del shops, items, item_categories, train\n",
    "gc.collect()"
   ]
  },
  {
   "cell_type": "code",
   "execution_count": 12,
   "metadata": {
    "execution": {
     "iopub.execute_input": "2022-10-15T13:31:39.995948Z",
     "iopub.status.busy": "2022-10-15T13:31:39.995494Z",
     "iopub.status.idle": "2022-10-15T13:31:48.353739Z",
     "shell.execute_reply": "2022-10-15T13:31:48.352449Z",
     "shell.execute_reply.started": "2022-10-15T13:31:39.995894Z"
    }
   },
   "outputs": [
    {
     "name": "stdout",
     "output_type": "stream",
     "text": [
      "66.8% compressed\n"
     ]
    },
    {
     "data": {
      "text/plain": [
       "13"
      ]
     },
     "execution_count": 12,
     "metadata": {},
     "output_type": "execute_result"
    }
   ],
   "source": [
    "def downcast(df, verbose=True):\n",
    "    start_mem = df.memory_usage().sum() / 1024**2\n",
    "    for col in df.columns:\n",
    "        dtype_name = df[col].dtype.name\n",
    "        if dtype_name == 'object':\n",
    "            pass\n",
    "        elif dtype_name == 'bool':\n",
    "            df[col] = df[col].astype('int8')\n",
    "        elif dtype_name.startswith('int') or (df[col].round() == df[col]).all():\n",
    "            df[col] = pd.to_numeric(df[col], downcast='integer')\n",
    "        else:\n",
    "            df[col] = pd.to_numeric(df[col], downcast='float')\n",
    "    end_mem = df.memory_usage().sum() / 1024**2\n",
    "    if verbose:\n",
    "        print('{:.1f}% compressed'.format(100 * (start_mem - end_mem) / start_mem))\n",
    "    \n",
    "    return df\n",
    "\n",
    "all_data = downcast(all_data)\n",
    "gc.collect()"
   ]
  },
  {
   "cell_type": "code",
   "execution_count": 15,
   "metadata": {
    "execution": {
     "iopub.execute_input": "2022-10-15T13:32:12.696744Z",
     "iopub.status.busy": "2022-10-15T13:32:12.696354Z",
     "iopub.status.idle": "2022-10-15T13:32:12.721061Z",
     "shell.execute_reply": "2022-10-15T13:32:12.719603Z",
     "shell.execute_reply.started": "2022-10-15T13:32:12.696712Z"
    }
   },
   "outputs": [],
   "source": [
    "class TimeSeriesCycle:\n",
    "    def __init__(self,\n",
    "                 data: pd.DataFrame,\n",
    "                 models_with_params: dict,\n",
    "                 metric: object,\n",
    "                 start_border: int,\n",
    "                 train_border: int,\n",
    "                 valid_border: int,\n",
    "                 test_border: int,\n",
    "                 cv_step: int,\n",
    "                 optuna_trials: int\n",
    "                ):\n",
    "        self.data = data\n",
    "        self.models_with_params = models_with_params\n",
    "        self.metric = metric\n",
    "        self.start_border = start_border\n",
    "        self.train_border = train_border\n",
    "        self.valid_border = valid_border\n",
    "        self.test_border = test_border    \n",
    "        self.cv_step = cv_step\n",
    "        self.optuna_trials = optuna_trials\n",
    "        self.best_estimators = []\n",
    "        self.final_estimator = None\n",
    "        \n",
    "   \n",
    "    def evaluate_model(self, model, params):\n",
    "        def objective(trial):\n",
    "            model.set_params(**params(trial))\n",
    "            scores = []\n",
    "            for i in range(self.start_border + self.cv_step, self.train_border + 1, self.cv_step):\n",
    "                X_train = self.data[self.data['date_block_num'] < i].drop(columns=['item_cnt_month'])\n",
    "                y_train = self.data[self.data['date_block_num'] < i]['item_cnt_month']\n",
    "                X_valid = self.data[self.data['date_block_num'] == i].drop(columns=['item_cnt_month'])\n",
    "                y_valid = self.data[self.data['date_block_num'] == i]['item_cnt_month']\n",
    "\n",
    "                model.fit(X_train, y_train)\n",
    "                preds = model.predict(X_valid).clip(0, 20)\n",
    "                scores.append(self.metric(y_valid, preds))\n",
    "            return np.mean(scores)\n",
    "        \n",
    "        \n",
    "        start = time.time()\n",
    "        study_name = 'study'\n",
    "        study = optuna.create_study(study_name=study_name, direction='minimize')\n",
    "        study.optimize(objective, n_trials=self.optuna_trials, show_progress_bar=True, gc_after_trial=True)\n",
    "        end = time.time()\n",
    "        \n",
    "        print('Best score: {}'.format(study.best_value))\n",
    "        print('Best params: {}'.format(study.best_params))\n",
    "        print('Taken time: {}'.format(int(end - start)))\n",
    "        \n",
    "        self.best_estimators.append((model, study.best_params))\n",
    "    \n",
    "    \n",
    "    def compare_models(self):\n",
    "        for model, params in self.models_with_params.items():\n",
    "            print('Hyperparameters tuning for ' + str(type(model).__name__))\n",
    "            self.evaluate_model(model, params)\n",
    "            \n",
    "        X_train = self.data[self.data['date_block_num'] <= self.train_border].drop(columns=['item_cnt_month'])\n",
    "        y_train = self.data[self.data['date_block_num'] <= self.train_border]['item_cnt_month']\n",
    "        X_valid = self.data[self.data['date_block_num'] == self.valid_border].drop(columns=['item_cnt_month'])\n",
    "        y_valid = self.data[self.data['date_block_num'] == self.valid_border]['item_cnt_month']\n",
    "        \n",
    "        scores = []\n",
    "        for model, params in self.best_estimators:\n",
    "            model.set_params(**params)\n",
    "            model.fit(X_train, y_train)\n",
    "            preds = model.predict(X_valid).clip(0, 20)\n",
    "            score = self.metric(preds, y_valid)\n",
    "            print('Validation set score for {} = '.format(type(model).__name__) + str(score))\n",
    "            scores.append(score)\n",
    "            \n",
    "        self.final_estimator = self.best_estimators[np.argmin(scores)]\n",
    "    \n",
    "    def get_predictions(self):\n",
    "        start = time.time()\n",
    "        \n",
    "        model, params = self.final_estimator\n",
    "        model.set_params(**params)\n",
    "        print('Final model: ' + str(model))\n",
    "        X = self.data[self.data['date_block_num'] <= self.valid_border].drop(columns=['item_cnt_month'])\n",
    "        y = self.data[self.data['date_block_num'] <= self.valid_border]['item_cnt_month']\n",
    "        print('Fitting...')\n",
    "        model.fit(X, y)\n",
    "        X_test = self.data[self.data['date_block_num'] == self.test_border].drop(columns=['item_cnt_month'])\n",
    "        y_test = model.predict(X_test).clip(0, 20)\n",
    "        \n",
    "        end = time.time()\n",
    "        print('Took ' + str(int(end - start)) + ' seconds to get final predictions')\n",
    "        self.final_estimator = model\n",
    "        return y_test\n",
    "    \n",
    "    def explain_model(self, model):\n",
    "        explainer = shap.Explainer(model)\n",
    "        shap_values = explainer(\n",
    "            self.data[self.data['date_block_num'] == self.test_border].drop(columns=['item_cnt_month'])\n",
    "        )\n",
    "        shap.plots.waterfall(shap_values[0])"
   ]
  },
  {
   "cell_type": "code",
   "execution_count": 19,
   "metadata": {
    "execution": {
     "iopub.execute_input": "2022-10-15T13:42:13.734074Z",
     "iopub.status.busy": "2022-10-15T13:42:13.733654Z",
     "iopub.status.idle": "2022-10-15T13:42:13.745474Z",
     "shell.execute_reply": "2022-10-15T13:42:13.744482Z",
     "shell.execute_reply.started": "2022-10-15T13:42:13.734040Z"
    }
   },
   "outputs": [],
   "source": [
    "def rmse_metric(y_valid, y_pred):\n",
    "    return mean_squared_error(y_valid, y_pred, squared=False)\n",
    "\n",
    "\n",
    "xgb_model = XGBRegressor()\n",
    "def xgb_params(trial):\n",
    "    params = {\n",
    "              'n_estimators': trial.suggest_int('n_estimators', 1, 150),\n",
    "              'max_depth': trial.suggest_int('max_depth', 3, 10),\n",
    "              'reg_alpha': trial.suggest_uniform('reg_alpha', 0, 5),\n",
    "              'reg_lambda': trial.suggest_uniform('reg_lambda', 0, 2),\n",
    "              'min_child_weight': trial.suggest_int('min_child_weight', 0, 5),\n",
    "              'gamma': trial.suggest_uniform('gamma', 0, 4),\n",
    "              'learning_rate': trial.suggest_loguniform('learning_rate', 0.05, 0.4),\n",
    "              'colsample_bytree': trial.suggest_uniform('colsample_bytree', 0.4, 0.9),\n",
    "              'subsample': trial.suggest_uniform('subsample', 0.4, 0.9),\n",
    "              'nthread': -1\n",
    "              }\n",
    "    return params\n",
    "\n",
    "rf_model = RandomForestRegressor()\n",
    "def rf_params(trial):\n",
    "    params = {\n",
    "             'bootstrap': trial.suggest_categorical('bootstrap', ['True', 'False']),\n",
    "             'max_depth': trial.suggest_int('max_depth', 1, 15),\n",
    "             'max_features': trial.suggest_categorical('max_features', ['auto', 'sqrt', 'log2']),\n",
    "             'min_samples_leaf': trial.suggest_int('min_samples_leaf', 1, 8),\n",
    "             'n_estimators': trial.suggest_int('n_estimators', 1, 300),\n",
    "             'n_jobs': -1\n",
    "             }\n",
    "    return params\n",
    "\n",
    "tsc = TimeSeriesCycle(data=all_data,\n",
    "                      models_with_params={rf_model: rf_params,\n",
    "                                          xgb_model: xgb_params},\n",
    "                      metric=rmse_metric,\n",
    "                      start_border=12,\n",
    "                      train_border=32,\n",
    "                      valid_border=33,\n",
    "                      test_border=34,\n",
    "                      cv_step=5,\n",
    "                      optuna_trials=15\n",
    "                     )"
   ]
  },
  {
   "cell_type": "code",
   "execution_count": 20,
   "metadata": {
    "execution": {
     "iopub.execute_input": "2022-10-15T13:42:14.559323Z",
     "iopub.status.busy": "2022-10-15T13:42:14.558927Z",
     "iopub.status.idle": "2022-10-15T22:12:12.717088Z",
     "shell.execute_reply": "2022-10-15T22:12:12.716097Z",
     "shell.execute_reply.started": "2022-10-15T13:42:14.559289Z"
    }
   },
   "outputs": [
    {
     "name": "stderr",
     "output_type": "stream",
     "text": [
      "\u001b[32m[I 2022-10-15 13:42:14,560]\u001b[0m A new study created in memory with name: study\u001b[0m\n"
     ]
    },
    {
     "name": "stdout",
     "output_type": "stream",
     "text": [
      "Hyperparameters tuning for RandomForestRegressor\n"
     ]
    },
    {
     "name": "stderr",
     "output_type": "stream",
     "text": [
      "Progress bar is experimental (supported from v1.2.0). The interface can change in the future.\n"
     ]
    },
    {
     "data": {
      "application/vnd.jupyter.widget-view+json": {
       "model_id": "87568b84bd0c40da89eb5abdf70d9772",
       "version_major": 2,
       "version_minor": 0
      },
      "text/plain": [
       "  0%|          | 0/15 [00:00<?, ?it/s]"
      ]
     },
     "metadata": {},
     "output_type": "display_data"
    },
    {
     "name": "stdout",
     "output_type": "stream",
     "text": [
      "\u001b[32m[I 2022-10-15 13:42:32,243]\u001b[0m Trial 0 finished with value: 0.9088710343652195 and parameters: {'bootstrap': 'False', 'max_depth': 1, 'max_features': 'sqrt', 'min_samples_leaf': 6, 'n_estimators': 14}. Best is trial 0 with value: 0.9088710343652195.\u001b[0m\n",
      "\u001b[32m[I 2022-10-15 13:59:05,364]\u001b[0m Trial 1 finished with value: 0.8150890906158994 and parameters: {'bootstrap': 'False', 'max_depth': 1, 'max_features': 'auto', 'min_samples_leaf': 3, 'n_estimators': 278}. Best is trial 1 with value: 0.8150890906158994.\u001b[0m\n",
      "\u001b[32m[I 2022-10-15 14:20:57,295]\u001b[0m Trial 2 finished with value: 0.6063123820477625 and parameters: {'bootstrap': 'True', 'max_depth': 14, 'max_features': 'log2', 'min_samples_leaf': 8, 'n_estimators': 287}. Best is trial 2 with value: 0.6063123820477625.\u001b[0m\n",
      "\u001b[32m[I 2022-10-15 14:21:31,762]\u001b[0m Trial 3 finished with value: 0.7664276372001408 and parameters: {'bootstrap': 'True', 'max_depth': 3, 'max_features': 'sqrt', 'min_samples_leaf': 6, 'n_estimators': 14}. Best is trial 2 with value: 0.6063123820477625.\u001b[0m\n",
      "\u001b[32m[I 2022-10-15 14:30:06,667]\u001b[0m Trial 4 finished with value: 0.638887949904543 and parameters: {'bootstrap': 'False', 'max_depth': 9, 'max_features': 'log2', 'min_samples_leaf': 8, 'n_estimators': 126}. Best is trial 2 with value: 0.6063123820477625.\u001b[0m\n",
      "\u001b[32m[I 2022-10-15 14:47:35,621]\u001b[0m Trial 5 finished with value: 0.6273426253434824 and parameters: {'bootstrap': 'False', 'max_depth': 10, 'max_features': 'sqrt', 'min_samples_leaf': 5, 'n_estimators': 265}. Best is trial 2 with value: 0.6063123820477625.\u001b[0m\n",
      "\u001b[32m[I 2022-10-15 14:51:36,742]\u001b[0m Trial 6 finished with value: 0.8901485124371495 and parameters: {'bootstrap': 'True', 'max_depth': 1, 'max_features': 'sqrt', 'min_samples_leaf': 5, 'n_estimators': 271}. Best is trial 2 with value: 0.6063123820477625.\u001b[0m\n",
      "\u001b[32m[I 2022-10-15 14:56:01,269]\u001b[0m Trial 7 finished with value: 0.7697102171663628 and parameters: {'bootstrap': 'True', 'max_depth': 3, 'max_features': 'log2', 'min_samples_leaf': 5, 'n_estimators': 126}. Best is trial 2 with value: 0.6063123820477625.\u001b[0m\n",
      "\u001b[32m[I 2022-10-15 15:06:20,668]\u001b[0m Trial 8 finished with value: 0.8150848465876653 and parameters: {'bootstrap': 'True', 'max_depth': 1, 'max_features': 'auto', 'min_samples_leaf': 2, 'n_estimators': 171}. Best is trial 2 with value: 0.6063123820477625.\u001b[0m\n",
      "\u001b[32m[I 2022-10-15 15:16:00,330]\u001b[0m Trial 9 finished with value: 0.6098999690166728 and parameters: {'bootstrap': 'False', 'max_depth': 13, 'max_features': 'log2', 'min_samples_leaf': 1, 'n_estimators': 129}. Best is trial 2 with value: 0.6063123820477625.\u001b[0m\n",
      "\u001b[32m[I 2022-10-15 15:31:28,856]\u001b[0m Trial 10 finished with value: 0.6036607735425996 and parameters: {'bootstrap': 'True', 'max_depth': 15, 'max_features': 'log2', 'min_samples_leaf': 8, 'n_estimators': 189}. Best is trial 10 with value: 0.6036607735425996.\u001b[0m\n",
      "\u001b[32m[I 2022-10-15 15:48:52,951]\u001b[0m Trial 11 finished with value: 0.6033247217454335 and parameters: {'bootstrap': 'True', 'max_depth': 15, 'max_features': 'log2', 'min_samples_leaf': 8, 'n_estimators': 216}. Best is trial 11 with value: 0.6033247217454335.\u001b[0m\n",
      "\u001b[32m[I 2022-10-15 16:04:23,161]\u001b[0m Trial 12 finished with value: 0.6021815747636408 and parameters: {'bootstrap': 'True', 'max_depth': 15, 'max_features': 'log2', 'min_samples_leaf': 7, 'n_estimators': 195}. Best is trial 12 with value: 0.6021815747636408.\u001b[0m\n",
      "\u001b[32m[I 2022-10-15 16:20:33,451]\u001b[0m Trial 13 finished with value: 0.6159865689080744 and parameters: {'bootstrap': 'True', 'max_depth': 12, 'max_features': 'log2', 'min_samples_leaf': 7, 'n_estimators': 212}. Best is trial 12 with value: 0.6021815747636408.\u001b[0m\n"
     ]
    },
    {
     "name": "stderr",
     "output_type": "stream",
     "text": [
      "\u001b[32m[I 2022-10-15 16:36:52,784]\u001b[0m A new study created in memory with name: study\u001b[0m\n"
     ]
    },
    {
     "name": "stdout",
     "output_type": "stream",
     "text": [
      "\u001b[32m[I 2022-10-15 16:36:52,602]\u001b[0m Trial 14 finished with value: 0.6213673733195706 and parameters: {'bootstrap': 'True', 'max_depth': 11, 'max_features': 'log2', 'min_samples_leaf': 7, 'n_estimators': 231}. Best is trial 12 with value: 0.6021815747636408.\u001b[0m\n",
      "Best score: 0.6021815747636408\n",
      "Best params: {'bootstrap': 'True', 'max_depth': 15, 'max_features': 'log2', 'min_samples_leaf': 7, 'n_estimators': 195}\n",
      "Taken time: 10478\n",
      "Hyperparameters tuning for XGBRegressor\n"
     ]
    },
    {
     "name": "stderr",
     "output_type": "stream",
     "text": [
      "Progress bar is experimental (supported from v1.2.0). The interface can change in the future.\n"
     ]
    },
    {
     "data": {
      "application/vnd.jupyter.widget-view+json": {
       "model_id": "2326b3d806e442afadcf62e3b686d710",
       "version_major": 2,
       "version_minor": 0
      },
      "text/plain": [
       "  0%|          | 0/15 [00:00<?, ?it/s]"
      ]
     },
     "metadata": {},
     "output_type": "display_data"
    },
    {
     "name": "stderr",
     "output_type": "stream",
     "text": [
      "suggest_uniform has been deprecated in v3.0.0. This feature will be removed in v6.0.0. See https://github.com/optuna/optuna/releases/tag/v3.0.0. Use :func:`~optuna.trial.Trial.suggest_float` instead.\n",
      "suggest_uniform has been deprecated in v3.0.0. This feature will be removed in v6.0.0. See https://github.com/optuna/optuna/releases/tag/v3.0.0. Use :func:`~optuna.trial.Trial.suggest_float` instead.\n",
      "suggest_uniform has been deprecated in v3.0.0. This feature will be removed in v6.0.0. See https://github.com/optuna/optuna/releases/tag/v3.0.0. Use :func:`~optuna.trial.Trial.suggest_float` instead.\n",
      "suggest_loguniform has been deprecated in v3.0.0. This feature will be removed in v6.0.0. See https://github.com/optuna/optuna/releases/tag/v3.0.0. Use :func:`~optuna.trial.Trial.suggest_float` instead.\n",
      "suggest_uniform has been deprecated in v3.0.0. This feature will be removed in v6.0.0. See https://github.com/optuna/optuna/releases/tag/v3.0.0. Use :func:`~optuna.trial.Trial.suggest_float` instead.\n",
      "suggest_uniform has been deprecated in v3.0.0. This feature will be removed in v6.0.0. See https://github.com/optuna/optuna/releases/tag/v3.0.0. Use :func:`~optuna.trial.Trial.suggest_float` instead.\n"
     ]
    },
    {
     "name": "stdout",
     "output_type": "stream",
     "text": [
      "\u001b[32m[I 2022-10-15 17:01:48,332]\u001b[0m Trial 0 finished with value: 0.5852018594741821 and parameters: {'n_estimators': 84, 'max_depth': 8, 'reg_alpha': 0.3151592607903342, 'reg_lambda': 1.202388595165938, 'min_child_weight': 4, 'gamma': 2.581773618771115, 'learning_rate': 0.18264577493585715, 'colsample_bytree': 0.8784158414981532, 'subsample': 0.6552629254445994}. Best is trial 0 with value: 0.5852018594741821.\u001b[0m\n"
     ]
    },
    {
     "name": "stderr",
     "output_type": "stream",
     "text": [
      "suggest_uniform has been deprecated in v3.0.0. This feature will be removed in v6.0.0. See https://github.com/optuna/optuna/releases/tag/v3.0.0. Use :func:`~optuna.trial.Trial.suggest_float` instead.\n",
      "suggest_uniform has been deprecated in v3.0.0. This feature will be removed in v6.0.0. See https://github.com/optuna/optuna/releases/tag/v3.0.0. Use :func:`~optuna.trial.Trial.suggest_float` instead.\n",
      "suggest_uniform has been deprecated in v3.0.0. This feature will be removed in v6.0.0. See https://github.com/optuna/optuna/releases/tag/v3.0.0. Use :func:`~optuna.trial.Trial.suggest_float` instead.\n",
      "suggest_loguniform has been deprecated in v3.0.0. This feature will be removed in v6.0.0. See https://github.com/optuna/optuna/releases/tag/v3.0.0. Use :func:`~optuna.trial.Trial.suggest_float` instead.\n",
      "suggest_uniform has been deprecated in v3.0.0. This feature will be removed in v6.0.0. See https://github.com/optuna/optuna/releases/tag/v3.0.0. Use :func:`~optuna.trial.Trial.suggest_float` instead.\n",
      "suggest_uniform has been deprecated in v3.0.0. This feature will be removed in v6.0.0. See https://github.com/optuna/optuna/releases/tag/v3.0.0. Use :func:`~optuna.trial.Trial.suggest_float` instead.\n"
     ]
    },
    {
     "name": "stdout",
     "output_type": "stream",
     "text": [
      "\u001b[32m[I 2022-10-15 17:02:41,642]\u001b[0m Trial 1 finished with value: 0.8237762451171875 and parameters: {'n_estimators': 8, 'max_depth': 3, 'reg_alpha': 2.289793640230555, 'reg_lambda': 1.56931664820732, 'min_child_weight': 3, 'gamma': 2.5198811905746457, 'learning_rate': 0.11038081961086499, 'colsample_bytree': 0.47801565768064186, 'subsample': 0.6388073615383103}. Best is trial 0 with value: 0.5852018594741821.\u001b[0m\n"
     ]
    },
    {
     "name": "stderr",
     "output_type": "stream",
     "text": [
      "suggest_uniform has been deprecated in v3.0.0. This feature will be removed in v6.0.0. See https://github.com/optuna/optuna/releases/tag/v3.0.0. Use :func:`~optuna.trial.Trial.suggest_float` instead.\n",
      "suggest_uniform has been deprecated in v3.0.0. This feature will be removed in v6.0.0. See https://github.com/optuna/optuna/releases/tag/v3.0.0. Use :func:`~optuna.trial.Trial.suggest_float` instead.\n",
      "suggest_uniform has been deprecated in v3.0.0. This feature will be removed in v6.0.0. See https://github.com/optuna/optuna/releases/tag/v3.0.0. Use :func:`~optuna.trial.Trial.suggest_float` instead.\n",
      "suggest_loguniform has been deprecated in v3.0.0. This feature will be removed in v6.0.0. See https://github.com/optuna/optuna/releases/tag/v3.0.0. Use :func:`~optuna.trial.Trial.suggest_float` instead.\n",
      "suggest_uniform has been deprecated in v3.0.0. This feature will be removed in v6.0.0. See https://github.com/optuna/optuna/releases/tag/v3.0.0. Use :func:`~optuna.trial.Trial.suggest_float` instead.\n",
      "suggest_uniform has been deprecated in v3.0.0. This feature will be removed in v6.0.0. See https://github.com/optuna/optuna/releases/tag/v3.0.0. Use :func:`~optuna.trial.Trial.suggest_float` instead.\n"
     ]
    },
    {
     "name": "stdout",
     "output_type": "stream",
     "text": [
      "\u001b[32m[I 2022-10-15 17:10:23,615]\u001b[0m Trial 2 finished with value: 0.6258004903793335 and parameters: {'n_estimators': 76, 'max_depth': 4, 'reg_alpha': 3.98084341895797, 'reg_lambda': 0.9762020896476213, 'min_child_weight': 1, 'gamma': 2.200525922090515, 'learning_rate': 0.09370997711092381, 'colsample_bytree': 0.5462072767539876, 'subsample': 0.8447292977263932}. Best is trial 0 with value: 0.5852018594741821.\u001b[0m\n"
     ]
    },
    {
     "name": "stderr",
     "output_type": "stream",
     "text": [
      "suggest_uniform has been deprecated in v3.0.0. This feature will be removed in v6.0.0. See https://github.com/optuna/optuna/releases/tag/v3.0.0. Use :func:`~optuna.trial.Trial.suggest_float` instead.\n",
      "suggest_uniform has been deprecated in v3.0.0. This feature will be removed in v6.0.0. See https://github.com/optuna/optuna/releases/tag/v3.0.0. Use :func:`~optuna.trial.Trial.suggest_float` instead.\n",
      "suggest_uniform has been deprecated in v3.0.0. This feature will be removed in v6.0.0. See https://github.com/optuna/optuna/releases/tag/v3.0.0. Use :func:`~optuna.trial.Trial.suggest_float` instead.\n",
      "suggest_loguniform has been deprecated in v3.0.0. This feature will be removed in v6.0.0. See https://github.com/optuna/optuna/releases/tag/v3.0.0. Use :func:`~optuna.trial.Trial.suggest_float` instead.\n",
      "suggest_uniform has been deprecated in v3.0.0. This feature will be removed in v6.0.0. See https://github.com/optuna/optuna/releases/tag/v3.0.0. Use :func:`~optuna.trial.Trial.suggest_float` instead.\n",
      "suggest_uniform has been deprecated in v3.0.0. This feature will be removed in v6.0.0. See https://github.com/optuna/optuna/releases/tag/v3.0.0. Use :func:`~optuna.trial.Trial.suggest_float` instead.\n"
     ]
    },
    {
     "name": "stdout",
     "output_type": "stream",
     "text": [
      "\u001b[32m[I 2022-10-15 17:24:17,405]\u001b[0m Trial 3 finished with value: 0.6061601042747498 and parameters: {'n_estimators': 37, 'max_depth': 10, 'reg_alpha': 2.419551660788792, 'reg_lambda': 1.11377319260965, 'min_child_weight': 2, 'gamma': 1.7359210942015002, 'learning_rate': 0.05539576183407348, 'colsample_bytree': 0.8418734650710425, 'subsample': 0.7043074891689122}. Best is trial 0 with value: 0.5852018594741821.\u001b[0m\n"
     ]
    },
    {
     "name": "stderr",
     "output_type": "stream",
     "text": [
      "suggest_uniform has been deprecated in v3.0.0. This feature will be removed in v6.0.0. See https://github.com/optuna/optuna/releases/tag/v3.0.0. Use :func:`~optuna.trial.Trial.suggest_float` instead.\n",
      "suggest_uniform has been deprecated in v3.0.0. This feature will be removed in v6.0.0. See https://github.com/optuna/optuna/releases/tag/v3.0.0. Use :func:`~optuna.trial.Trial.suggest_float` instead.\n",
      "suggest_uniform has been deprecated in v3.0.0. This feature will be removed in v6.0.0. See https://github.com/optuna/optuna/releases/tag/v3.0.0. Use :func:`~optuna.trial.Trial.suggest_float` instead.\n",
      "suggest_loguniform has been deprecated in v3.0.0. This feature will be removed in v6.0.0. See https://github.com/optuna/optuna/releases/tag/v3.0.0. Use :func:`~optuna.trial.Trial.suggest_float` instead.\n",
      "suggest_uniform has been deprecated in v3.0.0. This feature will be removed in v6.0.0. See https://github.com/optuna/optuna/releases/tag/v3.0.0. Use :func:`~optuna.trial.Trial.suggest_float` instead.\n",
      "suggest_uniform has been deprecated in v3.0.0. This feature will be removed in v6.0.0. See https://github.com/optuna/optuna/releases/tag/v3.0.0. Use :func:`~optuna.trial.Trial.suggest_float` instead.\n"
     ]
    },
    {
     "name": "stdout",
     "output_type": "stream",
     "text": [
      "\u001b[32m[I 2022-10-15 17:25:52,499]\u001b[0m Trial 4 finished with value: 0.7886899709701538 and parameters: {'n_estimators': 5, 'max_depth': 8, 'reg_alpha': 4.8301636541248, 'reg_lambda': 1.1714171098414716, 'min_child_weight': 2, 'gamma': 1.4198409170500477, 'learning_rate': 0.11911652474015401, 'colsample_bytree': 0.7010437670533227, 'subsample': 0.8494694205198994}. Best is trial 0 with value: 0.5852018594741821.\u001b[0m\n"
     ]
    },
    {
     "name": "stderr",
     "output_type": "stream",
     "text": [
      "suggest_uniform has been deprecated in v3.0.0. This feature will be removed in v6.0.0. See https://github.com/optuna/optuna/releases/tag/v3.0.0. Use :func:`~optuna.trial.Trial.suggest_float` instead.\n",
      "suggest_uniform has been deprecated in v3.0.0. This feature will be removed in v6.0.0. See https://github.com/optuna/optuna/releases/tag/v3.0.0. Use :func:`~optuna.trial.Trial.suggest_float` instead.\n",
      "suggest_uniform has been deprecated in v3.0.0. This feature will be removed in v6.0.0. See https://github.com/optuna/optuna/releases/tag/v3.0.0. Use :func:`~optuna.trial.Trial.suggest_float` instead.\n",
      "suggest_loguniform has been deprecated in v3.0.0. This feature will be removed in v6.0.0. See https://github.com/optuna/optuna/releases/tag/v3.0.0. Use :func:`~optuna.trial.Trial.suggest_float` instead.\n",
      "suggest_uniform has been deprecated in v3.0.0. This feature will be removed in v6.0.0. See https://github.com/optuna/optuna/releases/tag/v3.0.0. Use :func:`~optuna.trial.Trial.suggest_float` instead.\n",
      "suggest_uniform has been deprecated in v3.0.0. This feature will be removed in v6.0.0. See https://github.com/optuna/optuna/releases/tag/v3.0.0. Use :func:`~optuna.trial.Trial.suggest_float` instead.\n"
     ]
    },
    {
     "name": "stdout",
     "output_type": "stream",
     "text": [
      "\u001b[32m[I 2022-10-15 17:30:45,192]\u001b[0m Trial 5 finished with value: 0.6553109288215637 and parameters: {'n_estimators': 48, 'max_depth': 4, 'reg_alpha': 4.699961849451084, 'reg_lambda': 0.32730579367807455, 'min_child_weight': 4, 'gamma': 3.3028024391977198, 'learning_rate': 0.05658818592759772, 'colsample_bytree': 0.5577433944317027, 'subsample': 0.7699330223941234}. Best is trial 0 with value: 0.5852018594741821.\u001b[0m\n"
     ]
    },
    {
     "name": "stderr",
     "output_type": "stream",
     "text": [
      "suggest_uniform has been deprecated in v3.0.0. This feature will be removed in v6.0.0. See https://github.com/optuna/optuna/releases/tag/v3.0.0. Use :func:`~optuna.trial.Trial.suggest_float` instead.\n",
      "suggest_uniform has been deprecated in v3.0.0. This feature will be removed in v6.0.0. See https://github.com/optuna/optuna/releases/tag/v3.0.0. Use :func:`~optuna.trial.Trial.suggest_float` instead.\n",
      "suggest_uniform has been deprecated in v3.0.0. This feature will be removed in v6.0.0. See https://github.com/optuna/optuna/releases/tag/v3.0.0. Use :func:`~optuna.trial.Trial.suggest_float` instead.\n",
      "suggest_loguniform has been deprecated in v3.0.0. This feature will be removed in v6.0.0. See https://github.com/optuna/optuna/releases/tag/v3.0.0. Use :func:`~optuna.trial.Trial.suggest_float` instead.\n",
      "suggest_uniform has been deprecated in v3.0.0. This feature will be removed in v6.0.0. See https://github.com/optuna/optuna/releases/tag/v3.0.0. Use :func:`~optuna.trial.Trial.suggest_float` instead.\n",
      "suggest_uniform has been deprecated in v3.0.0. This feature will be removed in v6.0.0. See https://github.com/optuna/optuna/releases/tag/v3.0.0. Use :func:`~optuna.trial.Trial.suggest_float` instead.\n"
     ]
    },
    {
     "name": "stdout",
     "output_type": "stream",
     "text": [
      "\u001b[32m[I 2022-10-15 17:40:48,778]\u001b[0m Trial 6 finished with value: 0.5881724953651428 and parameters: {'n_estimators': 39, 'max_depth': 8, 'reg_alpha': 4.261915488319772, 'reg_lambda': 1.5024904679247721, 'min_child_weight': 4, 'gamma': 3.8480871491400137, 'learning_rate': 0.21404503679650047, 'colsample_bytree': 0.7164850225022978, 'subsample': 0.8700797520934189}. Best is trial 0 with value: 0.5852018594741821.\u001b[0m\n"
     ]
    },
    {
     "name": "stderr",
     "output_type": "stream",
     "text": [
      "suggest_uniform has been deprecated in v3.0.0. This feature will be removed in v6.0.0. See https://github.com/optuna/optuna/releases/tag/v3.0.0. Use :func:`~optuna.trial.Trial.suggest_float` instead.\n",
      "suggest_uniform has been deprecated in v3.0.0. This feature will be removed in v6.0.0. See https://github.com/optuna/optuna/releases/tag/v3.0.0. Use :func:`~optuna.trial.Trial.suggest_float` instead.\n",
      "suggest_uniform has been deprecated in v3.0.0. This feature will be removed in v6.0.0. See https://github.com/optuna/optuna/releases/tag/v3.0.0. Use :func:`~optuna.trial.Trial.suggest_float` instead.\n",
      "suggest_loguniform has been deprecated in v3.0.0. This feature will be removed in v6.0.0. See https://github.com/optuna/optuna/releases/tag/v3.0.0. Use :func:`~optuna.trial.Trial.suggest_float` instead.\n",
      "suggest_uniform has been deprecated in v3.0.0. This feature will be removed in v6.0.0. See https://github.com/optuna/optuna/releases/tag/v3.0.0. Use :func:`~optuna.trial.Trial.suggest_float` instead.\n",
      "suggest_uniform has been deprecated in v3.0.0. This feature will be removed in v6.0.0. See https://github.com/optuna/optuna/releases/tag/v3.0.0. Use :func:`~optuna.trial.Trial.suggest_float` instead.\n"
     ]
    },
    {
     "name": "stdout",
     "output_type": "stream",
     "text": [
      "\u001b[32m[I 2022-10-15 17:47:43,407]\u001b[0m Trial 7 finished with value: 0.6094364523887634 and parameters: {'n_estimators': 54, 'max_depth': 5, 'reg_alpha': 0.41038469308923076, 'reg_lambda': 1.4287978609567829, 'min_child_weight': 4, 'gamma': 0.963377911316011, 'learning_rate': 0.15781198932602847, 'colsample_bytree': 0.5644877008855325, 'subsample': 0.736946097692434}. Best is trial 0 with value: 0.5852018594741821.\u001b[0m\n"
     ]
    },
    {
     "name": "stderr",
     "output_type": "stream",
     "text": [
      "suggest_uniform has been deprecated in v3.0.0. This feature will be removed in v6.0.0. See https://github.com/optuna/optuna/releases/tag/v3.0.0. Use :func:`~optuna.trial.Trial.suggest_float` instead.\n",
      "suggest_uniform has been deprecated in v3.0.0. This feature will be removed in v6.0.0. See https://github.com/optuna/optuna/releases/tag/v3.0.0. Use :func:`~optuna.trial.Trial.suggest_float` instead.\n",
      "suggest_uniform has been deprecated in v3.0.0. This feature will be removed in v6.0.0. See https://github.com/optuna/optuna/releases/tag/v3.0.0. Use :func:`~optuna.trial.Trial.suggest_float` instead.\n",
      "suggest_loguniform has been deprecated in v3.0.0. This feature will be removed in v6.0.0. See https://github.com/optuna/optuna/releases/tag/v3.0.0. Use :func:`~optuna.trial.Trial.suggest_float` instead.\n",
      "suggest_uniform has been deprecated in v3.0.0. This feature will be removed in v6.0.0. See https://github.com/optuna/optuna/releases/tag/v3.0.0. Use :func:`~optuna.trial.Trial.suggest_float` instead.\n",
      "suggest_uniform has been deprecated in v3.0.0. This feature will be removed in v6.0.0. See https://github.com/optuna/optuna/releases/tag/v3.0.0. Use :func:`~optuna.trial.Trial.suggest_float` instead.\n"
     ]
    },
    {
     "name": "stdout",
     "output_type": "stream",
     "text": [
      "\u001b[32m[I 2022-10-15 17:52:57,840]\u001b[0m Trial 8 finished with value: 0.6086025238037109 and parameters: {'n_estimators': 19, 'max_depth': 8, 'reg_alpha': 4.2993000440615345, 'reg_lambda': 1.942446265106364, 'min_child_weight': 1, 'gamma': 0.5947956108528079, 'learning_rate': 0.15353302650871448, 'colsample_bytree': 0.6879220696943593, 'subsample': 0.5616494556864714}. Best is trial 0 with value: 0.5852018594741821.\u001b[0m\n"
     ]
    },
    {
     "name": "stderr",
     "output_type": "stream",
     "text": [
      "suggest_uniform has been deprecated in v3.0.0. This feature will be removed in v6.0.0. See https://github.com/optuna/optuna/releases/tag/v3.0.0. Use :func:`~optuna.trial.Trial.suggest_float` instead.\n",
      "suggest_uniform has been deprecated in v3.0.0. This feature will be removed in v6.0.0. See https://github.com/optuna/optuna/releases/tag/v3.0.0. Use :func:`~optuna.trial.Trial.suggest_float` instead.\n",
      "suggest_uniform has been deprecated in v3.0.0. This feature will be removed in v6.0.0. See https://github.com/optuna/optuna/releases/tag/v3.0.0. Use :func:`~optuna.trial.Trial.suggest_float` instead.\n",
      "suggest_loguniform has been deprecated in v3.0.0. This feature will be removed in v6.0.0. See https://github.com/optuna/optuna/releases/tag/v3.0.0. Use :func:`~optuna.trial.Trial.suggest_float` instead.\n",
      "suggest_uniform has been deprecated in v3.0.0. This feature will be removed in v6.0.0. See https://github.com/optuna/optuna/releases/tag/v3.0.0. Use :func:`~optuna.trial.Trial.suggest_float` instead.\n",
      "suggest_uniform has been deprecated in v3.0.0. This feature will be removed in v6.0.0. See https://github.com/optuna/optuna/releases/tag/v3.0.0. Use :func:`~optuna.trial.Trial.suggest_float` instead.\n"
     ]
    },
    {
     "name": "stdout",
     "output_type": "stream",
     "text": [
      "\u001b[32m[I 2022-10-15 18:33:59,317]\u001b[0m Trial 9 finished with value: 0.5850315093994141 and parameters: {'n_estimators': 124, 'max_depth': 9, 'reg_alpha': 3.1332752679895464, 'reg_lambda': 0.33716849669487337, 'min_child_weight': 0, 'gamma': 3.049149420828224, 'learning_rate': 0.11781342636694234, 'colsample_bytree': 0.8587949656622451, 'subsample': 0.43692179061111036}. Best is trial 9 with value: 0.5850315093994141.\u001b[0m\n"
     ]
    },
    {
     "name": "stderr",
     "output_type": "stream",
     "text": [
      "suggest_uniform has been deprecated in v3.0.0. This feature will be removed in v6.0.0. See https://github.com/optuna/optuna/releases/tag/v3.0.0. Use :func:`~optuna.trial.Trial.suggest_float` instead.\n",
      "suggest_uniform has been deprecated in v3.0.0. This feature will be removed in v6.0.0. See https://github.com/optuna/optuna/releases/tag/v3.0.0. Use :func:`~optuna.trial.Trial.suggest_float` instead.\n",
      "suggest_uniform has been deprecated in v3.0.0. This feature will be removed in v6.0.0. See https://github.com/optuna/optuna/releases/tag/v3.0.0. Use :func:`~optuna.trial.Trial.suggest_float` instead.\n",
      "suggest_loguniform has been deprecated in v3.0.0. This feature will be removed in v6.0.0. See https://github.com/optuna/optuna/releases/tag/v3.0.0. Use :func:`~optuna.trial.Trial.suggest_float` instead.\n",
      "suggest_uniform has been deprecated in v3.0.0. This feature will be removed in v6.0.0. See https://github.com/optuna/optuna/releases/tag/v3.0.0. Use :func:`~optuna.trial.Trial.suggest_float` instead.\n",
      "suggest_uniform has been deprecated in v3.0.0. This feature will be removed in v6.0.0. See https://github.com/optuna/optuna/releases/tag/v3.0.0. Use :func:`~optuna.trial.Trial.suggest_float` instead.\n"
     ]
    },
    {
     "name": "stdout",
     "output_type": "stream",
     "text": [
      "\u001b[32m[I 2022-10-15 19:25:00,080]\u001b[0m Trial 10 finished with value: 0.6322442293167114 and parameters: {'n_estimators': 143, 'max_depth': 10, 'reg_alpha': 3.1381441531161802, 'reg_lambda': 0.026968060731807242, 'min_child_weight': 0, 'gamma': 3.158224403617206, 'learning_rate': 0.34728524389217125, 'colsample_bytree': 0.8017226870238203, 'subsample': 0.40707001733572257}. Best is trial 9 with value: 0.5850315093994141.\u001b[0m\n"
     ]
    },
    {
     "name": "stderr",
     "output_type": "stream",
     "text": [
      "suggest_uniform has been deprecated in v3.0.0. This feature will be removed in v6.0.0. See https://github.com/optuna/optuna/releases/tag/v3.0.0. Use :func:`~optuna.trial.Trial.suggest_float` instead.\n",
      "suggest_uniform has been deprecated in v3.0.0. This feature will be removed in v6.0.0. See https://github.com/optuna/optuna/releases/tag/v3.0.0. Use :func:`~optuna.trial.Trial.suggest_float` instead.\n",
      "suggest_uniform has been deprecated in v3.0.0. This feature will be removed in v6.0.0. See https://github.com/optuna/optuna/releases/tag/v3.0.0. Use :func:`~optuna.trial.Trial.suggest_float` instead.\n",
      "suggest_loguniform has been deprecated in v3.0.0. This feature will be removed in v6.0.0. See https://github.com/optuna/optuna/releases/tag/v3.0.0. Use :func:`~optuna.trial.Trial.suggest_float` instead.\n",
      "suggest_uniform has been deprecated in v3.0.0. This feature will be removed in v6.0.0. See https://github.com/optuna/optuna/releases/tag/v3.0.0. Use :func:`~optuna.trial.Trial.suggest_float` instead.\n",
      "suggest_uniform has been deprecated in v3.0.0. This feature will be removed in v6.0.0. See https://github.com/optuna/optuna/releases/tag/v3.0.0. Use :func:`~optuna.trial.Trial.suggest_float` instead.\n"
     ]
    },
    {
     "name": "stdout",
     "output_type": "stream",
     "text": [
      "\u001b[32m[I 2022-10-15 19:53:15,715]\u001b[0m Trial 11 finished with value: 0.591128945350647 and parameters: {'n_estimators': 112, 'max_depth': 7, 'reg_alpha': 0.2623668152952999, 'reg_lambda': 0.7016091008102916, 'min_child_weight': 5, 'gamma': 2.8315505346838226, 'learning_rate': 0.23382572897831622, 'colsample_bytree': 0.8899750350496707, 'subsample': 0.5078133142043285}. Best is trial 9 with value: 0.5850315093994141.\u001b[0m\n"
     ]
    },
    {
     "name": "stderr",
     "output_type": "stream",
     "text": [
      "suggest_uniform has been deprecated in v3.0.0. This feature will be removed in v6.0.0. See https://github.com/optuna/optuna/releases/tag/v3.0.0. Use :func:`~optuna.trial.Trial.suggest_float` instead.\n",
      "suggest_uniform has been deprecated in v3.0.0. This feature will be removed in v6.0.0. See https://github.com/optuna/optuna/releases/tag/v3.0.0. Use :func:`~optuna.trial.Trial.suggest_float` instead.\n",
      "suggest_uniform has been deprecated in v3.0.0. This feature will be removed in v6.0.0. See https://github.com/optuna/optuna/releases/tag/v3.0.0. Use :func:`~optuna.trial.Trial.suggest_float` instead.\n",
      "suggest_loguniform has been deprecated in v3.0.0. This feature will be removed in v6.0.0. See https://github.com/optuna/optuna/releases/tag/v3.0.0. Use :func:`~optuna.trial.Trial.suggest_float` instead.\n",
      "suggest_uniform has been deprecated in v3.0.0. This feature will be removed in v6.0.0. See https://github.com/optuna/optuna/releases/tag/v3.0.0. Use :func:`~optuna.trial.Trial.suggest_float` instead.\n",
      "suggest_uniform has been deprecated in v3.0.0. This feature will be removed in v6.0.0. See https://github.com/optuna/optuna/releases/tag/v3.0.0. Use :func:`~optuna.trial.Trial.suggest_float` instead.\n"
     ]
    },
    {
     "name": "stdout",
     "output_type": "stream",
     "text": [
      "\u001b[32m[I 2022-10-15 20:26:15,873]\u001b[0m Trial 12 finished with value: 0.5868909358978271 and parameters: {'n_estimators': 100, 'max_depth': 9, 'reg_alpha': 1.3676925113911378, 'reg_lambda': 0.60439823929058, 'min_child_weight': 0, 'gamma': 3.860912396479662, 'learning_rate': 0.08716117428309969, 'colsample_bytree': 0.7907875287616124, 'subsample': 0.6091469081152583}. Best is trial 9 with value: 0.5850315093994141.\u001b[0m\n"
     ]
    },
    {
     "name": "stderr",
     "output_type": "stream",
     "text": [
      "suggest_uniform has been deprecated in v3.0.0. This feature will be removed in v6.0.0. See https://github.com/optuna/optuna/releases/tag/v3.0.0. Use :func:`~optuna.trial.Trial.suggest_float` instead.\n",
      "suggest_uniform has been deprecated in v3.0.0. This feature will be removed in v6.0.0. See https://github.com/optuna/optuna/releases/tag/v3.0.0. Use :func:`~optuna.trial.Trial.suggest_float` instead.\n",
      "suggest_uniform has been deprecated in v3.0.0. This feature will be removed in v6.0.0. See https://github.com/optuna/optuna/releases/tag/v3.0.0. Use :func:`~optuna.trial.Trial.suggest_float` instead.\n",
      "suggest_loguniform has been deprecated in v3.0.0. This feature will be removed in v6.0.0. See https://github.com/optuna/optuna/releases/tag/v3.0.0. Use :func:`~optuna.trial.Trial.suggest_float` instead.\n",
      "suggest_uniform has been deprecated in v3.0.0. This feature will be removed in v6.0.0. See https://github.com/optuna/optuna/releases/tag/v3.0.0. Use :func:`~optuna.trial.Trial.suggest_float` instead.\n",
      "suggest_uniform has been deprecated in v3.0.0. This feature will be removed in v6.0.0. See https://github.com/optuna/optuna/releases/tag/v3.0.0. Use :func:`~optuna.trial.Trial.suggest_float` instead.\n"
     ]
    },
    {
     "name": "stdout",
     "output_type": "stream",
     "text": [
      "\u001b[32m[I 2022-10-15 20:55:49,919]\u001b[0m Trial 13 finished with value: 0.5892921686172485 and parameters: {'n_estimators': 148, 'max_depth': 6, 'reg_alpha': 1.5122611170620899, 'reg_lambda': 0.6827214719018325, 'min_child_weight': 5, 'gamma': 2.4163503095428585, 'learning_rate': 0.2192849019065083, 'colsample_bytree': 0.8610210219220296, 'subsample': 0.44845549326326983}. Best is trial 9 with value: 0.5850315093994141.\u001b[0m\n"
     ]
    },
    {
     "name": "stderr",
     "output_type": "stream",
     "text": [
      "suggest_uniform has been deprecated in v3.0.0. This feature will be removed in v6.0.0. See https://github.com/optuna/optuna/releases/tag/v3.0.0. Use :func:`~optuna.trial.Trial.suggest_float` instead.\n",
      "suggest_uniform has been deprecated in v3.0.0. This feature will be removed in v6.0.0. See https://github.com/optuna/optuna/releases/tag/v3.0.0. Use :func:`~optuna.trial.Trial.suggest_float` instead.\n",
      "suggest_uniform has been deprecated in v3.0.0. This feature will be removed in v6.0.0. See https://github.com/optuna/optuna/releases/tag/v3.0.0. Use :func:`~optuna.trial.Trial.suggest_float` instead.\n",
      "suggest_loguniform has been deprecated in v3.0.0. This feature will be removed in v6.0.0. See https://github.com/optuna/optuna/releases/tag/v3.0.0. Use :func:`~optuna.trial.Trial.suggest_float` instead.\n",
      "suggest_uniform has been deprecated in v3.0.0. This feature will be removed in v6.0.0. See https://github.com/optuna/optuna/releases/tag/v3.0.0. Use :func:`~optuna.trial.Trial.suggest_float` instead.\n",
      "suggest_uniform has been deprecated in v3.0.0. This feature will be removed in v6.0.0. See https://github.com/optuna/optuna/releases/tag/v3.0.0. Use :func:`~optuna.trial.Trial.suggest_float` instead.\n"
     ]
    },
    {
     "name": "stdout",
     "output_type": "stream",
     "text": [
      "\u001b[32m[I 2022-10-15 21:32:12,887]\u001b[0m Trial 14 finished with value: 0.6309753656387329 and parameters: {'n_estimators': 117, 'max_depth': 9, 'reg_alpha': 3.232256826499745, 'reg_lambda': 0.07831092062242062, 'min_child_weight': 3, 'gamma': 3.264699578740383, 'learning_rate': 0.39739744652689574, 'colsample_bytree': 0.7664238254068105, 'subsample': 0.5247698491801138}. Best is trial 9 with value: 0.5850315093994141.\u001b[0m\n",
      "Best score: 0.5850315093994141\n",
      "Best params: {'n_estimators': 124, 'max_depth': 9, 'reg_alpha': 3.1332752679895464, 'reg_lambda': 0.33716849669487337, 'min_child_weight': 0, 'gamma': 3.049149420828224, 'learning_rate': 0.11781342636694234, 'colsample_bytree': 0.8587949656622451, 'subsample': 0.43692179061111036}\n",
      "Taken time: 17720\n",
      "Validation set score for RandomForestRegressor = 0.5586228312120851\n",
      "Validation set score for XGBRegressor = 0.51990384\n"
     ]
    }
   ],
   "source": [
    "tsc.compare_models()"
   ]
  },
  {
   "cell_type": "code",
   "execution_count": 21,
   "metadata": {
    "execution": {
     "iopub.execute_input": "2022-10-15T22:12:40.086834Z",
     "iopub.status.busy": "2022-10-15T22:12:40.086422Z",
     "iopub.status.idle": "2022-10-15T22:44:18.467519Z",
     "shell.execute_reply": "2022-10-15T22:44:18.466458Z",
     "shell.execute_reply.started": "2022-10-15T22:12:40.086801Z"
    }
   },
   "outputs": [
    {
     "name": "stdout",
     "output_type": "stream",
     "text": [
      "Final model: XGBRegressor(base_score=0.5, booster='gbtree', callbacks=None,\n",
      "             colsample_bylevel=1, colsample_bynode=1,\n",
      "             colsample_bytree=0.8587949656622451, early_stopping_rounds=None,\n",
      "             enable_categorical=False, eval_metric=None,\n",
      "             gamma=3.049149420828224, gpu_id=-1, grow_policy='depthwise',\n",
      "             importance_type=None, interaction_constraints='',\n",
      "             learning_rate=0.11781342636694234, max_bin=256,\n",
      "             max_cat_to_onehot=4, max_delta_step=0, max_depth=9, max_leaves=0,\n",
      "             min_child_weight=0, missing=nan, monotone_constraints='()',\n",
      "             n_estimators=124, n_jobs=-1, nthread=-1, num_parallel_tree=1,\n",
      "             predictor='auto', random_state=0, reg_alpha=3.1332752679895464, ...)\n",
      "Fitting...\n",
      "Took 1898 seconds to get final predictions\n"
     ]
    }
   ],
   "source": [
    "y_test = tsc.get_predictions()"
   ]
  },
  {
   "cell_type": "code",
   "execution_count": 22,
   "metadata": {
    "execution": {
     "iopub.execute_input": "2022-10-15T22:44:32.975686Z",
     "iopub.status.busy": "2022-10-15T22:44:32.975290Z",
     "iopub.status.idle": "2022-10-15T22:44:33.372729Z",
     "shell.execute_reply": "2022-10-15T22:44:33.371747Z",
     "shell.execute_reply.started": "2022-10-15T22:44:32.975651Z"
    }
   },
   "outputs": [],
   "source": [
    "submission = pd.DataFrame({\n",
    "    \"ID\": np.arange(y_test.shape[0]),\n",
    "    \"item_cnt_month\": y_test\n",
    "})\n",
    "submission.to_csv('s.csv', index=False)"
   ]
  },
  {
   "cell_type": "code",
   "execution_count": 23,
   "metadata": {
    "execution": {
     "iopub.execute_input": "2022-10-15T22:44:36.897662Z",
     "iopub.status.busy": "2022-10-15T22:44:36.897265Z",
     "iopub.status.idle": "2022-10-15T22:59:28.338196Z",
     "shell.execute_reply": "2022-10-15T22:59:28.336608Z",
     "shell.execute_reply.started": "2022-10-15T22:44:36.897625Z"
    }
   },
   "outputs": [
    {
     "name": "stderr",
     "output_type": "stream",
     "text": [
      "ntree_limit is deprecated, use `iteration_range` or model slicing instead.\n"
     ]
    },
    {
     "data": {
      "image/png": "[encoded data removed]",
      "text/plain": [
       "<Figure size 576x468 with 3 Axes>"
      ]
     },
     "metadata": {},
     "output_type": "display_data"
    }
   ],
   "source": [
    "tsc.explain_model(tsc.final_estimator)"
   ]
  }
 ],
 "metadata": {
  "kernelspec": {
   "display_name": "Python 3 (ipykernel)",
   "language": "python",
   "name": "python3"
  },
  "language_info": {
   "codemirror_mode": {
    "name": "ipython",
    "version": 3
   },
   "file_extension": ".py",
   "mimetype": "text/x-python",
   "name": "python",
   "nbconvert_exporter": "python",
   "pygments_lexer": "ipython3",
   "version": "3.9.7"
  }
 },
 "nbformat": 4,
 "nbformat_minor": 4
}
