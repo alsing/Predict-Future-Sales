{
 "cells": [
  {
   "cell_type": "code",
   "execution_count": 1,
   "metadata": {
    "execution": {
     "iopub.execute_input": "2022-10-17T14:00:39.966974Z",
     "iopub.status.busy": "2022-10-17T14:00:39.966156Z",
     "iopub.status.idle": "2022-10-17T14:00:45.056086Z",
     "shell.execute_reply": "2022-10-17T14:00:45.055097Z",
     "shell.execute_reply.started": "2022-10-17T14:00:39.966870Z"
    }
   },
   "outputs": [],
   "source": [
    "import time\n",
    "import numpy as np\n",
    "import pandas as pd\n",
    "from xgboost import XGBRegressor\n",
    "from sklearn.metrics import mean_squared_error\n",
    "from sklearn.preprocessing import LabelEncoder\n",
    "from itertools import product\n",
    "import gc\n",
    "import optuna\n",
    "import shap\n",
    "from sklearn.ensemble import RandomForestRegressor"
   ]
  },
  {
   "cell_type": "code",
   "execution_count": 2,
   "metadata": {
    "execution": {
     "iopub.execute_input": "2022-10-17T14:00:49.056980Z",
     "iopub.status.busy": "2022-10-17T14:00:49.056379Z",
     "iopub.status.idle": "2022-10-17T14:00:51.883773Z",
     "shell.execute_reply": "2022-10-17T14:00:51.882567Z",
     "shell.execute_reply.started": "2022-10-17T14:00:49.056941Z"
    }
   },
   "outputs": [
    {
     "data": {
      "text/html": [
       "<div>\n",
       "<style scoped>\n",
       "    .dataframe tbody tr th:only-of-type {\n",
       "        vertical-align: middle;\n",
       "    }\n",
       "\n",
       "    .dataframe tbody tr th {\n",
       "        vertical-align: top;\n",
       "    }\n",
       "\n",
       "    .dataframe thead th {\n",
       "        text-align: right;\n",
       "    }\n",
       "</style>\n",
       "<table border=\"1\" class=\"dataframe\">\n",
       "  <thead>\n",
       "    <tr style=\"text-align: right;\">\n",
       "      <th></th>\n",
       "      <th>date</th>\n",
       "      <th>date_block_num</th>\n",
       "      <th>shop_id</th>\n",
       "      <th>item_id</th>\n",
       "      <th>item_price</th>\n",
       "      <th>item_cnt_day</th>\n",
       "    </tr>\n",
       "  </thead>\n",
       "  <tbody>\n",
       "    <tr>\n",
       "      <th>0</th>\n",
       "      <td>02.01.2013</td>\n",
       "      <td>0</td>\n",
       "      <td>59</td>\n",
       "      <td>22154</td>\n",
       "      <td>999.00</td>\n",
       "      <td>1.0</td>\n",
       "    </tr>\n",
       "    <tr>\n",
       "      <th>1</th>\n",
       "      <td>03.01.2013</td>\n",
       "      <td>0</td>\n",
       "      <td>25</td>\n",
       "      <td>2552</td>\n",
       "      <td>899.00</td>\n",
       "      <td>1.0</td>\n",
       "    </tr>\n",
       "    <tr>\n",
       "      <th>2</th>\n",
       "      <td>05.01.2013</td>\n",
       "      <td>0</td>\n",
       "      <td>25</td>\n",
       "      <td>2552</td>\n",
       "      <td>899.00</td>\n",
       "      <td>-1.0</td>\n",
       "    </tr>\n",
       "    <tr>\n",
       "      <th>3</th>\n",
       "      <td>06.01.2013</td>\n",
       "      <td>0</td>\n",
       "      <td>25</td>\n",
       "      <td>2554</td>\n",
       "      <td>1709.05</td>\n",
       "      <td>1.0</td>\n",
       "    </tr>\n",
       "    <tr>\n",
       "      <th>4</th>\n",
       "      <td>15.01.2013</td>\n",
       "      <td>0</td>\n",
       "      <td>25</td>\n",
       "      <td>2555</td>\n",
       "      <td>1099.00</td>\n",
       "      <td>1.0</td>\n",
       "    </tr>\n",
       "  </tbody>\n",
       "</table>\n",
       "</div>"
      ],
      "text/plain": [
       "         date  date_block_num  shop_id  item_id  item_price  item_cnt_day\n",
       "0  02.01.2013               0       59    22154      999.00           1.0\n",
       "1  03.01.2013               0       25     2552      899.00           1.0\n",
       "2  05.01.2013               0       25     2552      899.00          -1.0\n",
       "3  06.01.2013               0       25     2554     1709.05           1.0\n",
       "4  15.01.2013               0       25     2555     1099.00           1.0"
      ]
     },
     "execution_count": 2,
     "metadata": {},
     "output_type": "execute_result"
    }
   ],
   "source": [
    "def read_data(path: str, files: list):\n",
    "    dataframes = []\n",
    "    for file in files:\n",
    "        dataframes.append(pd.read_csv(path + file))\n",
    "    return dataframes\n",
    "\n",
    "\n",
    "path = '../input/competitive-data-science-predict-future-sales/'\n",
    "files = ['sales_train.csv', 'items.csv', 'shops.csv', 'item_categories.csv', 'test.csv']\n",
    "sales_train, items, shops, item_categories, test = read_data(path, files)\n",
    "sales_train.head()"
   ]
  },
  {
   "cell_type": "code",
   "execution_count": 3,
   "metadata": {
    "execution": {
     "iopub.execute_input": "2022-10-17T14:00:51.885867Z",
     "iopub.status.busy": "2022-10-17T14:00:51.885525Z",
     "iopub.status.idle": "2022-10-17T14:00:52.590493Z",
     "shell.execute_reply": "2022-10-17T14:00:52.589238Z",
     "shell.execute_reply.started": "2022-10-17T14:00:51.885836Z"
    }
   },
   "outputs": [],
   "source": [
    "def remove_outliers(df: pd.DataFrame, max_price: int, max_cnt: int):  \n",
    "    df = df[df['item_price'] > 0]\n",
    "    df = df[df['item_price'] < max_price]\n",
    "    df = df[df['item_cnt_day'] > 0]\n",
    "    df = df[df['item_cnt_day'] < max_cnt]\n",
    "    return df\n",
    "\n",
    "\n",
    "sales_train = remove_outliers(sales_train, 50000, 1000)"
   ]
  },
  {
   "cell_type": "code",
   "execution_count": 4,
   "metadata": {
    "execution": {
     "iopub.execute_input": "2022-10-17T14:00:52.593061Z",
     "iopub.status.busy": "2022-10-17T14:00:52.591951Z",
     "iopub.status.idle": "2022-10-17T14:00:52.686325Z",
     "shell.execute_reply": "2022-10-17T14:00:52.685243Z",
     "shell.execute_reply.started": "2022-10-17T14:00:52.593014Z"
    }
   },
   "outputs": [],
   "source": [
    "def remove_shop_duplicates(df_train: pd.DataFrame, df_test: pd.DataFrame, shop_dups: dict):\n",
    "    for shop1, shop2 in shop_dups.items():\n",
    "        df_train.loc[df_train['shop_id'] == shop1, 'shop_id'] = shop2\n",
    "        df_test.loc[df_test['shop_id'] == shop1, 'shop_id'] = shop2\n",
    "        \n",
    "\n",
    "shop_dups = {0: 57, 1: 58, 10: 11, 39: 40}\n",
    "remove_shop_duplicates(sales_train, test, shop_dups)"
   ]
  },
  {
   "cell_type": "code",
   "execution_count": 5,
   "metadata": {
    "execution": {
     "iopub.execute_input": "2022-10-17T14:00:52.688809Z",
     "iopub.status.busy": "2022-10-17T14:00:52.688490Z",
     "iopub.status.idle": "2022-10-17T14:00:52.710396Z",
     "shell.execute_reply": "2022-10-17T14:00:52.709162Z",
     "shell.execute_reply.started": "2022-10-17T14:00:52.688781Z"
    }
   },
   "outputs": [
    {
     "data": {
      "text/html": [
       "<div>\n",
       "<style scoped>\n",
       "    .dataframe tbody tr th:only-of-type {\n",
       "        vertical-align: middle;\n",
       "    }\n",
       "\n",
       "    .dataframe tbody tr th {\n",
       "        vertical-align: top;\n",
       "    }\n",
       "\n",
       "    .dataframe thead th {\n",
       "        text-align: right;\n",
       "    }\n",
       "</style>\n",
       "<table border=\"1\" class=\"dataframe\">\n",
       "  <thead>\n",
       "    <tr style=\"text-align: right;\">\n",
       "      <th></th>\n",
       "      <th>shop_name</th>\n",
       "      <th>shop_id</th>\n",
       "      <th>city</th>\n",
       "    </tr>\n",
       "  </thead>\n",
       "  <tbody>\n",
       "    <tr>\n",
       "      <th>0</th>\n",
       "      <td>!Якутск Орджоникидзе, 56 фран</td>\n",
       "      <td>0</td>\n",
       "      <td>28</td>\n",
       "    </tr>\n",
       "    <tr>\n",
       "      <th>1</th>\n",
       "      <td>!Якутск ТЦ \"Центральный\" фран</td>\n",
       "      <td>1</td>\n",
       "      <td>28</td>\n",
       "    </tr>\n",
       "    <tr>\n",
       "      <th>2</th>\n",
       "      <td>Адыгея ТЦ \"Мега\"</td>\n",
       "      <td>2</td>\n",
       "      <td>0</td>\n",
       "    </tr>\n",
       "    <tr>\n",
       "      <th>3</th>\n",
       "      <td>Балашиха ТРК \"Октябрь-Киномир\"</td>\n",
       "      <td>3</td>\n",
       "      <td>1</td>\n",
       "    </tr>\n",
       "    <tr>\n",
       "      <th>4</th>\n",
       "      <td>Волжский ТЦ \"Волга Молл\"</td>\n",
       "      <td>4</td>\n",
       "      <td>2</td>\n",
       "    </tr>\n",
       "  </tbody>\n",
       "</table>\n",
       "</div>"
      ],
      "text/plain": [
       "                        shop_name  shop_id  city\n",
       "0   !Якутск Орджоникидзе, 56 фран        0    28\n",
       "1   !Якутск ТЦ \"Центральный\" фран        1    28\n",
       "2                Адыгея ТЦ \"Мега\"        2     0\n",
       "3  Балашиха ТРК \"Октябрь-Киномир\"        3     1\n",
       "4        Волжский ТЦ \"Волга Молл\"        4     2"
      ]
     },
     "execution_count": 5,
     "metadata": {},
     "output_type": "execute_result"
    }
   ],
   "source": [
    "def create_city_feature(shops_df: pd.DataFrame, corrections: dict):\n",
    "    shops_df['city'] = shops_df['shop_name'].str.extract(r'(\\w+\\.*\\w*)')\n",
    "    for city1, city2 in corrections.items():        \n",
    "        shops_df.loc[shops_df.city == city1, 'city'] = city2\n",
    "    shops_df['city'] = LabelEncoder().fit_transform(shops['city'])\n",
    "    \n",
    "    \n",
    "corrections = {'Выездная': 'Выездная торговля', 'РостовНаДону': 'Ростов-На-Дону',\n",
    "               'Сергиев': 'Сергиев Посад', 'Цифровой': 'Интернет'}\n",
    "create_city_feature(shops, corrections)\n",
    "shops.head()"
   ]
  },
  {
   "cell_type": "code",
   "execution_count": 6,
   "metadata": {
    "execution": {
     "iopub.execute_input": "2022-10-17T14:00:52.713332Z",
     "iopub.status.busy": "2022-10-17T14:00:52.712054Z",
     "iopub.status.idle": "2022-10-17T14:00:53.113285Z",
     "shell.execute_reply": "2022-10-17T14:00:53.112330Z",
     "shell.execute_reply.started": "2022-10-17T14:00:52.713282Z"
    }
   },
   "outputs": [],
   "source": [
    "def find_shop_item_pairs(data: pd.DataFrame):\n",
    "    pairs = []\n",
    "    shops = data['shop_id'].unique()\n",
    "    for shop in shops:\n",
    "        pairs.append((shop, data[data['shop_id'] == shop]['item_id'].unique()))\n",
    "    return pairs\n",
    "\n",
    "\n",
    "shop_item_pairs = find_shop_item_pairs(sales_train)"
   ]
  },
  {
   "cell_type": "code",
   "execution_count": 7,
   "metadata": {
    "execution": {
     "iopub.execute_input": "2022-10-17T14:00:53.115254Z",
     "iopub.status.busy": "2022-10-17T14:00:53.114902Z",
     "iopub.status.idle": "2022-10-17T14:01:02.996588Z",
     "shell.execute_reply": "2022-10-17T14:01:02.995540Z",
     "shell.execute_reply.started": "2022-10-17T14:00:53.115224Z"
    }
   },
   "outputs": [
    {
     "data": {
      "text/html": [
       "<div>\n",
       "<style scoped>\n",
       "    .dataframe tbody tr th:only-of-type {\n",
       "        vertical-align: middle;\n",
       "    }\n",
       "\n",
       "    .dataframe tbody tr th {\n",
       "        vertical-align: top;\n",
       "    }\n",
       "\n",
       "    .dataframe thead th {\n",
       "        text-align: right;\n",
       "    }\n",
       "</style>\n",
       "<table border=\"1\" class=\"dataframe\">\n",
       "  <thead>\n",
       "    <tr style=\"text-align: right;\">\n",
       "      <th></th>\n",
       "      <th>date_block_num</th>\n",
       "      <th>shop_id</th>\n",
       "      <th>item_id</th>\n",
       "    </tr>\n",
       "  </thead>\n",
       "  <tbody>\n",
       "    <tr>\n",
       "      <th>0</th>\n",
       "      <td>0</td>\n",
       "      <td>59</td>\n",
       "      <td>22154</td>\n",
       "    </tr>\n",
       "    <tr>\n",
       "      <th>1</th>\n",
       "      <td>0</td>\n",
       "      <td>59</td>\n",
       "      <td>22151</td>\n",
       "    </tr>\n",
       "    <tr>\n",
       "      <th>2</th>\n",
       "      <td>0</td>\n",
       "      <td>59</td>\n",
       "      <td>5603</td>\n",
       "    </tr>\n",
       "    <tr>\n",
       "      <th>3</th>\n",
       "      <td>0</td>\n",
       "      <td>59</td>\n",
       "      <td>5587</td>\n",
       "    </tr>\n",
       "    <tr>\n",
       "      <th>4</th>\n",
       "      <td>0</td>\n",
       "      <td>59</td>\n",
       "      <td>5613</td>\n",
       "    </tr>\n",
       "    <tr>\n",
       "      <th>...</th>\n",
       "      <td>...</td>\n",
       "      <td>...</td>\n",
       "      <td>...</td>\n",
       "    </tr>\n",
       "    <tr>\n",
       "      <th>14218727</th>\n",
       "      <td>33</td>\n",
       "      <td>36</td>\n",
       "      <td>20231</td>\n",
       "    </tr>\n",
       "    <tr>\n",
       "      <th>14218728</th>\n",
       "      <td>33</td>\n",
       "      <td>36</td>\n",
       "      <td>20334</td>\n",
       "    </tr>\n",
       "    <tr>\n",
       "      <th>14218729</th>\n",
       "      <td>33</td>\n",
       "      <td>36</td>\n",
       "      <td>20339</td>\n",
       "    </tr>\n",
       "    <tr>\n",
       "      <th>14218730</th>\n",
       "      <td>33</td>\n",
       "      <td>36</td>\n",
       "      <td>20352</td>\n",
       "    </tr>\n",
       "    <tr>\n",
       "      <th>14218731</th>\n",
       "      <td>33</td>\n",
       "      <td>36</td>\n",
       "      <td>20602</td>\n",
       "    </tr>\n",
       "  </tbody>\n",
       "</table>\n",
       "<p>14218732 rows × 3 columns</p>\n",
       "</div>"
      ],
      "text/plain": [
       "          date_block_num  shop_id  item_id\n",
       "0                      0       59    22154\n",
       "1                      0       59    22151\n",
       "2                      0       59     5603\n",
       "3                      0       59     5587\n",
       "4                      0       59     5613\n",
       "...                  ...      ...      ...\n",
       "14218727              33       36    20231\n",
       "14218728              33       36    20334\n",
       "14218729              33       36    20339\n",
       "14218730              33       36    20352\n",
       "14218731              33       36    20602\n",
       "\n",
       "[14218732 rows x 3 columns]"
      ]
     },
     "execution_count": 7,
     "metadata": {},
     "output_type": "execute_result"
    }
   ],
   "source": [
    "def create_train(month_range: list, shops_items: list):\n",
    "    train = []\n",
    "    for month in month_range:\n",
    "        for shop, items in shops_items:\n",
    "            train.append(np.array(list(product([month], [shop], items))))\n",
    "    train = pd.DataFrame(np.vstack(train), columns=['date_block_num', 'shop_id', 'item_id'])\n",
    "    return train\n",
    "\n",
    "\n",
    "train = create_train(sales_train.date_block_num.unique(), shop_item_pairs)\n",
    "train"
   ]
  },
  {
   "cell_type": "code",
   "execution_count": 8,
   "metadata": {
    "execution": {
     "iopub.execute_input": "2022-10-17T14:01:02.998984Z",
     "iopub.status.busy": "2022-10-17T14:01:02.997970Z",
     "iopub.status.idle": "2022-10-17T14:01:11.505384Z",
     "shell.execute_reply": "2022-10-17T14:01:11.504430Z",
     "shell.execute_reply.started": "2022-10-17T14:01:02.998950Z"
    }
   },
   "outputs": [],
   "source": [
    "def aggregate_on_month_level(train_df: pd.DataFrame, sales_train_df: pd.DataFrame, test_df: pd.DataFrame): \n",
    "    group = sales_train_df.groupby(['date_block_num', 'shop_id', 'item_id']).agg({'item_cnt_day': 'sum', 'item_price': 'mean'}).reset_index()\n",
    "    group = group.rename(columns={'item_cnt_day': 'item_cnt_month', 'item_price': 'item_price_mean'})\n",
    "    all_data = train_df.merge(group, on=['date_block_num', 'shop_id', 'item_id'], how='left')\n",
    "    \n",
    "    test = test_df.merge(group[group['date_block_num'] == 33], on=['shop_id', 'item_id'], how='left')\n",
    "    test = test.fillna(0)    \n",
    "    test['date_block_num'] = 34\n",
    "\n",
    "    all_data = pd.concat([all_data, test.drop(columns='ID')], ignore_index=True, keys=['date_block_num', 'shop_id', 'item_id'])\n",
    "    all_data = all_data.fillna(0)\n",
    "    all_data['item_cnt_month'] = all_data['item_cnt_month'].clip(0,20)\n",
    "    return all_data\n",
    "\n",
    "\n",
    "all_data = aggregate_on_month_level(train, sales_train, test)"
   ]
  },
  {
   "cell_type": "code",
   "execution_count": 9,
   "metadata": {
    "execution": {
     "iopub.execute_input": "2022-10-17T14:01:11.507665Z",
     "iopub.status.busy": "2022-10-17T14:01:11.507074Z",
     "iopub.status.idle": "2022-10-17T14:01:46.972263Z",
     "shell.execute_reply": "2022-10-17T14:01:46.971180Z",
     "shell.execute_reply.started": "2022-10-17T14:01:11.507603Z"
    }
   },
   "outputs": [],
   "source": [
    "def add_lag_features(lag_months: list, month_range: range):\n",
    "    lags = pd.DataFrame()\n",
    "    for month in month_range:\n",
    "        cur_month = all_data[all_data.date_block_num == month]\n",
    "        for lag in lag_months:\n",
    "            cur_lag = all_data[all_data.date_block_num == month - lag]\n",
    "            cur_lag = cur_lag.rename({'item_cnt_month': 'item_cnt_last_{}'.format(lag),\n",
    "                                      'item_price_mean': 'item_price_last_{}'.format(lag)}, axis=1)\n",
    "\n",
    "            cur_item_lag = all_data[all_data.date_block_num == month - lag]\n",
    "            cur_item_lag = cur_item_lag.groupby(['item_id'], as_index=False).agg({'item_cnt_month': 'sum', 'item_price_mean': 'mean'})\n",
    "            cur_item_lag = cur_item_lag.rename({'item_cnt_month': 'item_cnt_last_{}_item'.format(lag),\n",
    "                                                'item_price_mean': 'item_price_last_{}_item'.format(lag)},\n",
    "                                                axis=1)\n",
    "\n",
    "            cur_month = cur_month.merge(cur_lag.drop(columns='date_block_num'), how='left',\n",
    "                                        on=['shop_id', 'item_id'])\n",
    "            cur_month = cur_month.merge(cur_item_lag,\n",
    "                                        how='left', on=['item_id'])\n",
    "        lags = pd.concat([lags, cur_month], ignore_index=True)\n",
    "        \n",
    "    lags = lags.fillna(0)\n",
    "    return lags\n",
    "\n",
    "lag_months = [1, 2, 3, 12]\n",
    "month_range = range(12, all_data.date_block_num.nunique())\n",
    "all_data = add_lag_features(lag_months, month_range)"
   ]
  },
  {
   "cell_type": "code",
   "execution_count": 10,
   "metadata": {
    "execution": {
     "iopub.execute_input": "2022-10-17T14:01:46.975853Z",
     "iopub.status.busy": "2022-10-17T14:01:46.975408Z",
     "iopub.status.idle": "2022-10-17T14:01:55.432902Z",
     "shell.execute_reply": "2022-10-17T14:01:55.431853Z",
     "shell.execute_reply.started": "2022-10-17T14:01:46.975818Z"
    }
   },
   "outputs": [
    {
     "data": {
      "text/html": [
       "<div>\n",
       "<style scoped>\n",
       "    .dataframe tbody tr th:only-of-type {\n",
       "        vertical-align: middle;\n",
       "    }\n",
       "\n",
       "    .dataframe tbody tr th {\n",
       "        vertical-align: top;\n",
       "    }\n",
       "\n",
       "    .dataframe thead th {\n",
       "        text-align: right;\n",
       "    }\n",
       "</style>\n",
       "<table border=\"1\" class=\"dataframe\">\n",
       "  <thead>\n",
       "    <tr style=\"text-align: right;\">\n",
       "      <th></th>\n",
       "      <th>date_block_num</th>\n",
       "      <th>shop_id</th>\n",
       "      <th>item_id</th>\n",
       "      <th>item_cnt_month</th>\n",
       "      <th>item_price_mean</th>\n",
       "      <th>item_cnt_last_1</th>\n",
       "      <th>item_price_last_1</th>\n",
       "      <th>item_cnt_last_1_item</th>\n",
       "      <th>item_price_last_1_item</th>\n",
       "      <th>item_cnt_last_2</th>\n",
       "      <th>...</th>\n",
       "      <th>item_price_last_3</th>\n",
       "      <th>item_cnt_last_3_item</th>\n",
       "      <th>item_price_last_3_item</th>\n",
       "      <th>item_cnt_last_12</th>\n",
       "      <th>item_price_last_12</th>\n",
       "      <th>item_cnt_last_12_item</th>\n",
       "      <th>item_price_last_12_item</th>\n",
       "      <th>city</th>\n",
       "      <th>item_category_id</th>\n",
       "      <th>new_item</th>\n",
       "    </tr>\n",
       "  </thead>\n",
       "  <tbody>\n",
       "    <tr>\n",
       "      <th>0</th>\n",
       "      <td>12</td>\n",
       "      <td>59</td>\n",
       "      <td>22154</td>\n",
       "      <td>0.0</td>\n",
       "      <td>0.0</td>\n",
       "      <td>0.0</td>\n",
       "      <td>0.0</td>\n",
       "      <td>1.0</td>\n",
       "      <td>41.625000</td>\n",
       "      <td>0.0</td>\n",
       "      <td>...</td>\n",
       "      <td>0.0</td>\n",
       "      <td>3.0</td>\n",
       "      <td>124.875000</td>\n",
       "      <td>1.0</td>\n",
       "      <td>999.0</td>\n",
       "      <td>18.0</td>\n",
       "      <td>582.750000</td>\n",
       "      <td>29</td>\n",
       "      <td>37</td>\n",
       "      <td>False</td>\n",
       "    </tr>\n",
       "    <tr>\n",
       "      <th>1</th>\n",
       "      <td>12</td>\n",
       "      <td>59</td>\n",
       "      <td>22151</td>\n",
       "      <td>0.0</td>\n",
       "      <td>0.0</td>\n",
       "      <td>0.0</td>\n",
       "      <td>0.0</td>\n",
       "      <td>0.0</td>\n",
       "      <td>0.000000</td>\n",
       "      <td>0.0</td>\n",
       "      <td>...</td>\n",
       "      <td>0.0</td>\n",
       "      <td>0.0</td>\n",
       "      <td>0.000000</td>\n",
       "      <td>2.0</td>\n",
       "      <td>399.0</td>\n",
       "      <td>239.0</td>\n",
       "      <td>357.833571</td>\n",
       "      <td>29</td>\n",
       "      <td>40</td>\n",
       "      <td>False</td>\n",
       "    </tr>\n",
       "    <tr>\n",
       "      <th>2</th>\n",
       "      <td>12</td>\n",
       "      <td>59</td>\n",
       "      <td>5603</td>\n",
       "      <td>0.0</td>\n",
       "      <td>0.0</td>\n",
       "      <td>0.0</td>\n",
       "      <td>0.0</td>\n",
       "      <td>4.0</td>\n",
       "      <td>57.384615</td>\n",
       "      <td>0.0</td>\n",
       "      <td>...</td>\n",
       "      <td>0.0</td>\n",
       "      <td>3.0</td>\n",
       "      <td>45.923077</td>\n",
       "      <td>1.0</td>\n",
       "      <td>699.0</td>\n",
       "      <td>6.0</td>\n",
       "      <td>145.011538</td>\n",
       "      <td>29</td>\n",
       "      <td>5</td>\n",
       "      <td>False</td>\n",
       "    </tr>\n",
       "    <tr>\n",
       "      <th>3</th>\n",
       "      <td>12</td>\n",
       "      <td>59</td>\n",
       "      <td>5587</td>\n",
       "      <td>0.0</td>\n",
       "      <td>0.0</td>\n",
       "      <td>0.0</td>\n",
       "      <td>0.0</td>\n",
       "      <td>21.0</td>\n",
       "      <td>69.574468</td>\n",
       "      <td>0.0</td>\n",
       "      <td>...</td>\n",
       "      <td>0.0</td>\n",
       "      <td>54.0</td>\n",
       "      <td>94.978723</td>\n",
       "      <td>2.0</td>\n",
       "      <td>199.0</td>\n",
       "      <td>67.0</td>\n",
       "      <td>118.605319</td>\n",
       "      <td>29</td>\n",
       "      <td>5</td>\n",
       "      <td>False</td>\n",
       "    </tr>\n",
       "    <tr>\n",
       "      <th>4</th>\n",
       "      <td>12</td>\n",
       "      <td>59</td>\n",
       "      <td>5613</td>\n",
       "      <td>0.0</td>\n",
       "      <td>0.0</td>\n",
       "      <td>1.0</td>\n",
       "      <td>6090.0</td>\n",
       "      <td>49.0</td>\n",
       "      <td>3107.142857</td>\n",
       "      <td>0.0</td>\n",
       "      <td>...</td>\n",
       "      <td>0.0</td>\n",
       "      <td>20.0</td>\n",
       "      <td>2052.333333</td>\n",
       "      <td>1.0</td>\n",
       "      <td>5571.0</td>\n",
       "      <td>15.0</td>\n",
       "      <td>1503.285714</td>\n",
       "      <td>29</td>\n",
       "      <td>2</td>\n",
       "      <td>False</td>\n",
       "    </tr>\n",
       "  </tbody>\n",
       "</table>\n",
       "<p>5 rows × 24 columns</p>\n",
       "</div>"
      ],
      "text/plain": [
       "   date_block_num  shop_id  item_id  item_cnt_month  item_price_mean  \\\n",
       "0              12       59    22154             0.0              0.0   \n",
       "1              12       59    22151             0.0              0.0   \n",
       "2              12       59     5603             0.0              0.0   \n",
       "3              12       59     5587             0.0              0.0   \n",
       "4              12       59     5613             0.0              0.0   \n",
       "\n",
       "   item_cnt_last_1  item_price_last_1  item_cnt_last_1_item  \\\n",
       "0              0.0                0.0                   1.0   \n",
       "1              0.0                0.0                   0.0   \n",
       "2              0.0                0.0                   4.0   \n",
       "3              0.0                0.0                  21.0   \n",
       "4              1.0             6090.0                  49.0   \n",
       "\n",
       "   item_price_last_1_item  item_cnt_last_2  ...  item_price_last_3  \\\n",
       "0               41.625000              0.0  ...                0.0   \n",
       "1                0.000000              0.0  ...                0.0   \n",
       "2               57.384615              0.0  ...                0.0   \n",
       "3               69.574468              0.0  ...                0.0   \n",
       "4             3107.142857              0.0  ...                0.0   \n",
       "\n",
       "   item_cnt_last_3_item  item_price_last_3_item  item_cnt_last_12  \\\n",
       "0                   3.0              124.875000               1.0   \n",
       "1                   0.0                0.000000               2.0   \n",
       "2                   3.0               45.923077               1.0   \n",
       "3                  54.0               94.978723               2.0   \n",
       "4                  20.0             2052.333333               1.0   \n",
       "\n",
       "   item_price_last_12  item_cnt_last_12_item  item_price_last_12_item  city  \\\n",
       "0               999.0                   18.0               582.750000    29   \n",
       "1               399.0                  239.0               357.833571    29   \n",
       "2               699.0                    6.0               145.011538    29   \n",
       "3               199.0                   67.0               118.605319    29   \n",
       "4              5571.0                   15.0              1503.285714    29   \n",
       "\n",
       "   item_category_id  new_item  \n",
       "0                37     False  \n",
       "1                40     False  \n",
       "2                 5     False  \n",
       "3                 5     False  \n",
       "4                 2     False  \n",
       "\n",
       "[5 rows x 24 columns]"
      ]
     },
     "execution_count": 10,
     "metadata": {},
     "output_type": "execute_result"
    }
   ],
   "source": [
    "items['first_sale_date'] = sales_train.groupby('item_id').agg({'date_block_num': 'min'})['date_block_num']\n",
    "items['first_sale_date'] = items['first_sale_date'].fillna(34)\n",
    "\n",
    "all_data = all_data.merge(shops[['shop_id', 'city']], on='shop_id', how='left')\n",
    "all_data = all_data.merge(items[['item_id', 'item_category_id', 'first_sale_date']], on='item_id', how='left')\n",
    "all_data = all_data.merge(item_categories.drop('item_category_name', axis=1), on='item_category_id', how='left')\n",
    "\n",
    "all_data['new_item'] = all_data['first_sale_date'] == all_data['date_block_num']\n",
    "all_data = all_data.drop('first_sale_date', axis=1)\n",
    "\n",
    "all_data.head()"
   ]
  },
  {
   "cell_type": "code",
   "execution_count": 11,
   "metadata": {
    "execution": {
     "iopub.execute_input": "2022-10-17T14:01:55.434641Z",
     "iopub.status.busy": "2022-10-17T14:01:55.434279Z",
     "iopub.status.idle": "2022-10-17T14:01:55.598695Z",
     "shell.execute_reply": "2022-10-17T14:01:55.597263Z",
     "shell.execute_reply.started": "2022-10-17T14:01:55.434614Z"
    }
   },
   "outputs": [
    {
     "data": {
      "text/plain": [
       "64"
      ]
     },
     "execution_count": 11,
     "metadata": {},
     "output_type": "execute_result"
    }
   ],
   "source": [
    "del shops, items, item_categories, train\n",
    "gc.collect()"
   ]
  },
  {
   "cell_type": "code",
   "execution_count": 12,
   "metadata": {
    "execution": {
     "iopub.execute_input": "2022-10-17T14:01:55.601544Z",
     "iopub.status.busy": "2022-10-17T14:01:55.601027Z",
     "iopub.status.idle": "2022-10-17T14:02:03.745970Z",
     "shell.execute_reply": "2022-10-17T14:02:03.745073Z",
     "shell.execute_reply.started": "2022-10-17T14:01:55.601502Z"
    }
   },
   "outputs": [
    {
     "name": "stdout",
     "output_type": "stream",
     "text": [
      "66.8% compressed\n"
     ]
    },
    {
     "data": {
      "text/plain": [
       "13"
      ]
     },
     "execution_count": 12,
     "metadata": {},
     "output_type": "execute_result"
    }
   ],
   "source": [
    "def downcast(df, verbose=True):\n",
    "    start_mem = df.memory_usage().sum() / 1024**2\n",
    "    for col in df.columns:\n",
    "        dtype_name = df[col].dtype.name\n",
    "        if dtype_name == 'object':\n",
    "            pass\n",
    "        elif dtype_name == 'bool':\n",
    "            df[col] = df[col].astype('int8')\n",
    "        elif dtype_name.startswith('int') or (df[col].round() == df[col]).all():\n",
    "            df[col] = pd.to_numeric(df[col], downcast='integer')\n",
    "        else:\n",
    "            df[col] = pd.to_numeric(df[col], downcast='float')\n",
    "    end_mem = df.memory_usage().sum() / 1024**2\n",
    "    if verbose:\n",
    "        print('{:.1f}% compressed'.format(100 * (start_mem - end_mem) / start_mem))\n",
    "    \n",
    "    return df\n",
    "\n",
    "all_data = downcast(all_data)\n",
    "gc.collect()"
   ]
  },
  {
   "cell_type": "code",
   "execution_count": 13,
   "metadata": {
    "execution": {
     "iopub.execute_input": "2022-10-17T14:02:03.748318Z",
     "iopub.status.busy": "2022-10-17T14:02:03.747178Z",
     "iopub.status.idle": "2022-10-17T14:02:03.771124Z",
     "shell.execute_reply": "2022-10-17T14:02:03.770267Z",
     "shell.execute_reply.started": "2022-10-17T14:02:03.748271Z"
    }
   },
   "outputs": [],
   "source": [
    "class TimeSeriesCycle:\n",
    "    def __init__(self,\n",
    "                 data: pd.DataFrame,\n",
    "                 models_with_params: dict,\n",
    "                 metric: object,\n",
    "                 start_border: int,\n",
    "                 train_border: int,\n",
    "                 valid_border: int,\n",
    "                 test_border: int,\n",
    "                 cv_step: int,\n",
    "                 optuna_trials: int\n",
    "                ):\n",
    "        self.data = data\n",
    "        self.models_with_params = models_with_params\n",
    "        self.metric = metric\n",
    "        self.start_border = start_border\n",
    "        self.train_border = train_border\n",
    "        self.valid_border = valid_border\n",
    "        self.test_border = test_border    \n",
    "        self.cv_step = cv_step\n",
    "        self.optuna_trials = optuna_trials\n",
    "        self.best_estimators = []\n",
    "        self.final_estimator = None\n",
    "        \n",
    "   \n",
    "    def evaluate_model(self, model, params):\n",
    "        def objective(trial):\n",
    "            model.set_params(**params(trial))\n",
    "            scores = []\n",
    "            for i in range(self.start_border + self.cv_step, self.train_border + 1, self.cv_step):\n",
    "                X_train = self.data[self.data['date_block_num'] < i].drop(columns=['item_cnt_month'])\n",
    "                y_train = self.data[self.data['date_block_num'] < i]['item_cnt_month']\n",
    "                X_valid = self.data[self.data['date_block_num'] == i].drop(columns=['item_cnt_month'])\n",
    "                y_valid = self.data[self.data['date_block_num'] == i]['item_cnt_month']\n",
    "\n",
    "                model.fit(X_train, y_train)\n",
    "                preds = model.predict(X_valid).clip(0, 20)\n",
    "                scores.append(self.metric(y_valid, preds))\n",
    "            return np.mean(scores)\n",
    "        \n",
    "        \n",
    "        start = time.time()\n",
    "        study_name = 'study'\n",
    "        study = optuna.create_study(study_name=study_name, direction='minimize')\n",
    "        study.optimize(objective, n_trials=self.optuna_trials, show_progress_bar=True, gc_after_trial=True)\n",
    "        end = time.time()\n",
    "        \n",
    "        print('Best score: {}'.format(study.best_value))\n",
    "        print('Best params: {}'.format(study.best_params))\n",
    "        print('Taken time: {}'.format(int(end - start)))\n",
    "        \n",
    "        self.best_estimators.append((model, study.best_params))\n",
    "    \n",
    "    \n",
    "    def compare_models(self):\n",
    "        for model, params in self.models_with_params.items():\n",
    "            print('Hyperparameters tuning for ' + str(type(model).__name__))\n",
    "            self.evaluate_model(model, params)\n",
    "            \n",
    "        X_train = self.data[self.data['date_block_num'] <= self.train_border].drop(columns=['item_cnt_month'])\n",
    "        y_train = self.data[self.data['date_block_num'] <= self.train_border]['item_cnt_month']\n",
    "        X_valid = self.data[self.data['date_block_num'] == self.valid_border].drop(columns=['item_cnt_month'])\n",
    "        y_valid = self.data[self.data['date_block_num'] == self.valid_border]['item_cnt_month']\n",
    "        \n",
    "        scores = []\n",
    "        for model, params in self.best_estimators:\n",
    "            model.set_params(**params)\n",
    "            model.fit(X_train, y_train)\n",
    "            preds = model.predict(X_valid).clip(0, 20)\n",
    "            score = self.metric(preds, y_valid)\n",
    "            print('Validation set score for {} = '.format(type(model).__name__) + str(score))\n",
    "            scores.append(score)\n",
    "            \n",
    "        self.final_estimator = self.best_estimators[np.argmin(scores)]\n",
    "    \n",
    "    def get_predictions(self):\n",
    "        start = time.time()\n",
    "        \n",
    "        model, params = self.final_estimator\n",
    "        model.set_params(**params)\n",
    "        print('Final model: ' + str(model))\n",
    "        X = self.data[self.data['date_block_num'] <= self.valid_border].drop(columns=['item_cnt_month'])\n",
    "        y = self.data[self.data['date_block_num'] <= self.valid_border]['item_cnt_month']\n",
    "        print('Fitting...')\n",
    "        model.fit(X, y)\n",
    "        X_test = self.data[self.data['date_block_num'] == self.test_border].drop(columns=['item_cnt_month'])\n",
    "        y_test = model.predict(X_test).clip(0, 20)\n",
    "        \n",
    "        end = time.time()\n",
    "        print('Took ' + str(int(end - start)) + ' seconds to get final predictions')\n",
    "        self.final_estimator = model\n",
    "        return y_test\n",
    "    \n",
    "    def explain_model(self, model):\n",
    "        explainer = shap.Explainer(model)\n",
    "        shap_values = explainer(\n",
    "            self.data[self.data['date_block_num'] == self.test_border].drop(columns=['item_cnt_month'])\n",
    "        )\n",
    "        shap.plots.waterfall(shap_values[0])"
   ]
  },
  {
   "cell_type": "code",
   "execution_count": 14,
   "metadata": {
    "execution": {
     "iopub.execute_input": "2022-10-17T14:02:03.773330Z",
     "iopub.status.busy": "2022-10-17T14:02:03.772322Z",
     "iopub.status.idle": "2022-10-17T14:02:03.792120Z",
     "shell.execute_reply": "2022-10-17T14:02:03.790812Z",
     "shell.execute_reply.started": "2022-10-17T14:02:03.773297Z"
    }
   },
   "outputs": [],
   "source": [
    "def rmse_metric(y_valid, y_pred):\n",
    "    return mean_squared_error(y_valid, y_pred, squared=False)\n",
    "\n",
    "\n",
    "xgb_model = XGBRegressor()\n",
    "def xgb_params(trial):\n",
    "    params = {\n",
    "              'n_estimators': trial.suggest_int('n_estimators', 1, 150),\n",
    "              'max_depth': trial.suggest_int('max_depth', 3, 12),\n",
    "              'reg_alpha': trial.suggest_uniform('reg_alpha', 0, 4),\n",
    "              'reg_lambda': trial.suggest_uniform('reg_lambda', 0, 2),\n",
    "              'min_child_weight': trial.suggest_int('min_child_weight', 0, 5),\n",
    "              'gamma': trial.suggest_uniform('gamma', 0, 4),\n",
    "              'learning_rate': trial.suggest_loguniform('learning_rate', 0.05, 0.5),\n",
    "              'colsample_bytree': trial.suggest_uniform('colsample_bytree', 0.4, 0.9),\n",
    "              'subsample': trial.suggest_uniform('subsample', 0.4, 0.9),\n",
    "              'nthread': -1\n",
    "              }\n",
    "    return params\n",
    "\n",
    "rf_model = RandomForestRegressor()\n",
    "def rf_params(trial):\n",
    "    params = {\n",
    "             'bootstrap': trial.suggest_categorical('bootstrap', ['True', 'False']),\n",
    "             'max_depth': trial.suggest_int('max_depth', 1, 20),\n",
    "             'max_features': trial.suggest_categorical('max_features', ['auto', 'sqrt', 'log2']),\n",
    "             'min_samples_leaf': trial.suggest_int('min_samples_leaf', 1, 8),\n",
    "             'n_estimators': trial.suggest_int('n_estimators', 1, 300),\n",
    "             'n_jobs': -1\n",
    "             }\n",
    "    return params\n",
    "\n",
    "tsc = TimeSeriesCycle(data=all_data,\n",
    "                      models_with_params={rf_model: rf_params,\n",
    "                                          xgb_model: xgb_params\n",
    "                                          },\n",
    "                      metric=rmse_metric,\n",
    "                      start_border=12,\n",
    "                      train_border=32,\n",
    "                      valid_border=33,\n",
    "                      test_border=34,\n",
    "                      cv_step=5,\n",
    "                      optuna_trials=20\n",
    "                     )"
   ]
  },
  {
   "cell_type": "code",
   "execution_count": 20,
   "metadata": {
    "execution": {
     "iopub.execute_input": "2022-10-15T13:33:37.026278Z",
     "iopub.status.busy": "2022-10-15T13:33:37.025909Z",
     "iopub.status.idle": "2022-10-16T01:10:57.740880Z",
     "shell.execute_reply": "2022-10-16T01:10:57.740154Z",
     "shell.execute_reply.started": "2022-10-15T13:33:37.026253Z"
    }
   },
   "outputs": [
    {
     "name": "stderr",
     "output_type": "stream",
     "text": [
      "\u001b[32m[I 2022-10-15 13:33:37,027]\u001b[0m A new study created in memory with name: study\u001b[0m\n"
     ]
    },
    {
     "name": "stdout",
     "output_type": "stream",
     "text": [
      "Hyperparameters tuning for RandomForestRegressor\n"
     ]
    },
    {
     "data": {
      "application/vnd.jupyter.widget-view+json": {
       "model_id": "7d3dc8fd2e3b40d195470ec1fdde12e3",
       "version_major": 2,
       "version_minor": 0
      },
      "text/plain": [
       "  0%|          | 0/20 [00:00<?, ?it/s]"
      ]
     },
     "metadata": {},
     "output_type": "display_data"
    },
    {
     "name": "stdout",
     "output_type": "stream",
     "text": [
      "\u001b[32m[I 2022-10-15 13:53:01,037]\u001b[0m Trial 0 finished with value: 0.5996945427398732 and parameters: {'bootstrap': 'True', 'max_depth': 16, 'max_features': 'sqrt', 'min_samples_leaf': 3, 'n_estimators': 279}. Best is trial 0 with value: 0.5996945427398732.\u001b[0m\n",
      "\u001b[32m[I 2022-10-15 13:58:33,998]\u001b[0m Trial 1 finished with value: 0.6987417913533489 and parameters: {'bootstrap': 'True', 'max_depth': 5, 'max_features': 'log2', 'min_samples_leaf': 2, 'n_estimators': 126}. Best is trial 0 with value: 0.5996945427398732.\u001b[0m\n",
      "\u001b[32m[I 2022-10-15 14:09:56,844]\u001b[0m Trial 2 finished with value: 0.638789899934623 and parameters: {'bootstrap': 'True', 'max_depth': 5, 'max_features': 'auto', 'min_samples_leaf': 1, 'n_estimators': 137}. Best is trial 0 with value: 0.5996945427398732.\u001b[0m\n",
      "\u001b[32m[I 2022-10-15 14:11:41,218]\u001b[0m Trial 3 finished with value: 0.6104645182145554 and parameters: {'bootstrap': 'False', 'max_depth': 14, 'max_features': 'sqrt', 'min_samples_leaf': 5, 'n_estimators': 24}. Best is trial 0 with value: 0.5996945427398732.\u001b[0m\n",
      "\u001b[32m[I 2022-10-15 14:28:09,806]\u001b[0m Trial 4 finished with value: 0.5927599028271516 and parameters: {'bootstrap': 'True', 'max_depth': 10, 'max_features': 'auto', 'min_samples_leaf': 5, 'n_estimators': 137}. Best is trial 4 with value: 0.5927599028271516.\u001b[0m\n",
      "\u001b[32m[I 2022-10-15 14:46:33,330]\u001b[0m Trial 5 finished with value: 0.6201702814220442 and parameters: {'bootstrap': 'False', 'max_depth': 11, 'max_features': 'log2', 'min_samples_leaf': 1, 'n_estimators': 280}. Best is trial 4 with value: 0.5927599028271516.\u001b[0m\n",
      "\u001b[32m[I 2022-10-15 15:12:24,295]\u001b[0m Trial 6 finished with value: 0.6017378054048566 and parameters: {'bootstrap': 'True', 'max_depth': 14, 'max_features': 'auto', 'min_samples_leaf': 7, 'n_estimators': 188}. Best is trial 4 with value: 0.5927599028271516.\u001b[0m\n",
      "\u001b[32m[I 2022-10-15 15:26:26,605]\u001b[0m Trial 7 finished with value: 0.675336696370125 and parameters: {'bootstrap': 'False', 'max_depth': 6, 'max_features': 'log2', 'min_samples_leaf': 6, 'n_estimators': 283}. Best is trial 4 with value: 0.5927599028271516.\u001b[0m\n",
      "\u001b[32m[I 2022-10-15 15:34:49,876]\u001b[0m Trial 8 finished with value: 0.6769868465247386 and parameters: {'bootstrap': 'False', 'max_depth': 6, 'max_features': 'sqrt', 'min_samples_leaf': 6, 'n_estimators': 169}. Best is trial 4 with value: 0.5927599028271516.\u001b[0m\n",
      "\u001b[32m[I 2022-10-15 15:43:08,617]\u001b[0m Trial 9 finished with value: 0.6067430017940527 and parameters: {'bootstrap': 'False', 'max_depth': 13, 'max_features': 'log2', 'min_samples_leaf': 3, 'n_estimators': 114}. Best is trial 4 with value: 0.5927599028271516.\u001b[0m\n",
      "\u001b[32m[I 2022-10-15 15:51:49,426]\u001b[0m Trial 10 finished with value: 0.603376272467407 and parameters: {'bootstrap': 'True', 'max_depth': 19, 'max_features': 'auto', 'min_samples_leaf': 8, 'n_estimators': 54}. Best is trial 4 with value: 0.5927599028271516.\u001b[0m\n",
      "\u001b[32m[I 2022-10-15 16:08:50,920]\u001b[0m Trial 11 finished with value: 0.5945537687960534 and parameters: {'bootstrap': 'True', 'max_depth': 19, 'max_features': 'sqrt', 'min_samples_leaf': 4, 'n_estimators': 221}. Best is trial 4 with value: 0.5927599028271516.\u001b[0m\n",
      "\u001b[32m[I 2022-10-15 16:44:56,304]\u001b[0m Trial 12 finished with value: 0.5997301129109376 and parameters: {'bootstrap': 'True', 'max_depth': 19, 'max_features': 'auto', 'min_samples_leaf': 4, 'n_estimators': 221}. Best is trial 4 with value: 0.5927599028271516.\u001b[0m\n",
      "\u001b[32m[I 2022-10-15 16:47:48,751]\u001b[0m Trial 13 finished with value: 0.8786066181477726 and parameters: {'bootstrap': 'True', 'max_depth': 1, 'max_features': 'sqrt', 'min_samples_leaf': 5, 'n_estimators': 222}. Best is trial 4 with value: 0.5927599028271516.\u001b[0m\n",
      "\u001b[32m[I 2022-10-15 16:56:55,234]\u001b[0m Trial 14 finished with value: 0.5925412806286984 and parameters: {'bootstrap': 'True', 'max_depth': 10, 'max_features': 'auto', 'min_samples_leaf': 4, 'n_estimators': 76}. Best is trial 14 with value: 0.5925412806286984.\u001b[0m\n",
      "\u001b[32m[I 2022-10-15 17:06:18,650]\u001b[0m Trial 15 finished with value: 0.6017706830544869 and parameters: {'bootstrap': 'True', 'max_depth': 9, 'max_features': 'auto', 'min_samples_leaf': 6, 'n_estimators': 79}. Best is trial 14 with value: 0.5925412806286984.\u001b[0m\n",
      "\u001b[32m[I 2022-10-15 17:15:55,230]\u001b[0m Trial 16 finished with value: 0.602376034049809 and parameters: {'bootstrap': 'True', 'max_depth': 9, 'max_features': 'auto', 'min_samples_leaf': 3, 'n_estimators': 84}. Best is trial 14 with value: 0.5925412806286984.\u001b[0m\n",
      "\u001b[32m[I 2022-10-15 17:16:57,312]\u001b[0m Trial 17 finished with value: 0.6032401100238243 and parameters: {'bootstrap': 'True', 'max_depth': 11, 'max_features': 'auto', 'min_samples_leaf': 5, 'n_estimators': 7}. Best is trial 14 with value: 0.5925412806286984.\u001b[0m\n",
      "\u001b[32m[I 2022-10-15 17:26:43,672]\u001b[0m Trial 18 finished with value: 0.6055422860233359 and parameters: {'bootstrap': 'True', 'max_depth': 8, 'max_features': 'auto', 'min_samples_leaf': 4, 'n_estimators': 91}. Best is trial 14 with value: 0.5925412806286984.\u001b[0m\n",
      "\u001b[32m[I 2022-10-15 17:29:01,206]\u001b[0m Trial 19 finished with value: 0.8150887991649673 and parameters: {'bootstrap': 'True', 'max_depth': 1, 'max_features': 'auto', 'min_samples_leaf': 7, 'n_estimators': 40}. Best is trial 14 with value: 0.5925412806286984.\u001b[0m\n"
     ]
    },
    {
     "name": "stderr",
     "output_type": "stream",
     "text": [
      "\u001b[32m[I 2022-10-15 17:29:01,443]\u001b[0m A new study created in memory with name: study\u001b[0m\n"
     ]
    },
    {
     "name": "stdout",
     "output_type": "stream",
     "text": [
      "Best score: 0.5925412806286984\n",
      "Best params: {'bootstrap': 'True', 'max_depth': 10, 'max_features': 'auto', 'min_samples_leaf': 4, 'n_estimators': 76}\n",
      "Taken time: 14124\n",
      "Hyperparameters tuning for XGBRegressor\n"
     ]
    },
    {
     "name": "stderr",
     "output_type": "stream",
     "text": [
      "Progress bar is experimental (supported from v1.2.0). The interface can change in the future.\n"
     ]
    },
    {
     "data": {
      "application/vnd.jupyter.widget-view+json": {
       "model_id": "830673f470f84519b17e67f17e9f2670",
       "version_major": 2,
       "version_minor": 0
      },
      "text/plain": [
       "  0%|          | 0/20 [00:00<?, ?it/s]"
      ]
     },
     "metadata": {},
     "output_type": "display_data"
    },
    {
     "name": "stderr",
     "output_type": "stream",
     "text": [
      "suggest_uniform has been deprecated in v3.0.0. This feature will be removed in v6.0.0. See https://github.com/optuna/optuna/releases/tag/v3.0.0. Use :func:`~optuna.trial.Trial.suggest_float` instead.\n",
      "suggest_uniform has been deprecated in v3.0.0. This feature will be removed in v6.0.0. See https://github.com/optuna/optuna/releases/tag/v3.0.0. Use :func:`~optuna.trial.Trial.suggest_float` instead.\n",
      "suggest_uniform has been deprecated in v3.0.0. This feature will be removed in v6.0.0. See https://github.com/optuna/optuna/releases/tag/v3.0.0. Use :func:`~optuna.trial.Trial.suggest_float` instead.\n",
      "suggest_loguniform has been deprecated in v3.0.0. This feature will be removed in v6.0.0. See https://github.com/optuna/optuna/releases/tag/v3.0.0. Use :func:`~optuna.trial.Trial.suggest_float` instead.\n",
      "suggest_uniform has been deprecated in v3.0.0. This feature will be removed in v6.0.0. See https://github.com/optuna/optuna/releases/tag/v3.0.0. Use :func:`~optuna.trial.Trial.suggest_float` instead.\n",
      "suggest_uniform has been deprecated in v3.0.0. This feature will be removed in v6.0.0. See https://github.com/optuna/optuna/releases/tag/v3.0.0. Use :func:`~optuna.trial.Trial.suggest_float` instead.\n"
     ]
    },
    {
     "name": "stdout",
     "output_type": "stream",
     "text": [
      "\u001b[32m[I 2022-10-15 17:39:58,303]\u001b[0m Trial 0 finished with value: 0.6756086349487305 and parameters: {'n_estimators': 39, 'max_depth': 11, 'reg_alpha': 3.4884166444054254, 'reg_lambda': 0.790936989699504, 'min_child_weight': 4, 'gamma': 1.7234368578444537, 'learning_rate': 0.054256679307264404, 'colsample_bytree': 0.43331818037942227, 'subsample': 0.6061327691417693}. Best is trial 0 with value: 0.6756086349487305.\u001b[0m\n"
     ]
    },
    {
     "name": "stderr",
     "output_type": "stream",
     "text": [
      "suggest_uniform has been deprecated in v3.0.0. This feature will be removed in v6.0.0. See https://github.com/optuna/optuna/releases/tag/v3.0.0. Use :func:`~optuna.trial.Trial.suggest_float` instead.\n",
      "suggest_uniform has been deprecated in v3.0.0. This feature will be removed in v6.0.0. See https://github.com/optuna/optuna/releases/tag/v3.0.0. Use :func:`~optuna.trial.Trial.suggest_float` instead.\n",
      "suggest_uniform has been deprecated in v3.0.0. This feature will be removed in v6.0.0. See https://github.com/optuna/optuna/releases/tag/v3.0.0. Use :func:`~optuna.trial.Trial.suggest_float` instead.\n",
      "suggest_loguniform has been deprecated in v3.0.0. This feature will be removed in v6.0.0. See https://github.com/optuna/optuna/releases/tag/v3.0.0. Use :func:`~optuna.trial.Trial.suggest_float` instead.\n",
      "suggest_uniform has been deprecated in v3.0.0. This feature will be removed in v6.0.0. See https://github.com/optuna/optuna/releases/tag/v3.0.0. Use :func:`~optuna.trial.Trial.suggest_float` instead.\n",
      "suggest_uniform has been deprecated in v3.0.0. This feature will be removed in v6.0.0. See https://github.com/optuna/optuna/releases/tag/v3.0.0. Use :func:`~optuna.trial.Trial.suggest_float` instead.\n"
     ]
    },
    {
     "name": "stdout",
     "output_type": "stream",
     "text": [
      "\u001b[32m[I 2022-10-15 18:07:51,488]\u001b[0m Trial 1 finished with value: 0.5953853130340576 and parameters: {'n_estimators': 61, 'max_depth': 12, 'reg_alpha': 3.2117759502916137, 'reg_lambda': 1.079858509412473, 'min_child_weight': 2, 'gamma': 0.38432744547761777, 'learning_rate': 0.06799710369152133, 'colsample_bytree': 0.6847409394899387, 'subsample': 0.7497448707288403}. Best is trial 1 with value: 0.5953853130340576.\u001b[0m\n"
     ]
    },
    {
     "name": "stderr",
     "output_type": "stream",
     "text": [
      "suggest_uniform has been deprecated in v3.0.0. This feature will be removed in v6.0.0. See https://github.com/optuna/optuna/releases/tag/v3.0.0. Use :func:`~optuna.trial.Trial.suggest_float` instead.\n",
      "suggest_uniform has been deprecated in v3.0.0. This feature will be removed in v6.0.0. See https://github.com/optuna/optuna/releases/tag/v3.0.0. Use :func:`~optuna.trial.Trial.suggest_float` instead.\n",
      "suggest_uniform has been deprecated in v3.0.0. This feature will be removed in v6.0.0. See https://github.com/optuna/optuna/releases/tag/v3.0.0. Use :func:`~optuna.trial.Trial.suggest_float` instead.\n",
      "suggest_loguniform has been deprecated in v3.0.0. This feature will be removed in v6.0.0. See https://github.com/optuna/optuna/releases/tag/v3.0.0. Use :func:`~optuna.trial.Trial.suggest_float` instead.\n",
      "suggest_uniform has been deprecated in v3.0.0. This feature will be removed in v6.0.0. See https://github.com/optuna/optuna/releases/tag/v3.0.0. Use :func:`~optuna.trial.Trial.suggest_float` instead.\n",
      "suggest_uniform has been deprecated in v3.0.0. This feature will be removed in v6.0.0. See https://github.com/optuna/optuna/releases/tag/v3.0.0. Use :func:`~optuna.trial.Trial.suggest_float` instead.\n"
     ]
    },
    {
     "name": "stdout",
     "output_type": "stream",
     "text": [
      "\u001b[32m[I 2022-10-15 18:45:37,555]\u001b[0m Trial 2 finished with value: 0.6125878691673279 and parameters: {'n_estimators': 137, 'max_depth': 10, 'reg_alpha': 1.9423692324404258, 'reg_lambda': 0.49322243165023694, 'min_child_weight': 0, 'gamma': 3.213739348189576, 'learning_rate': 0.23113581384269932, 'colsample_bytree': 0.49322701660590995, 'subsample': 0.7705955654258394}. Best is trial 1 with value: 0.5953853130340576.\u001b[0m\n"
     ]
    },
    {
     "name": "stderr",
     "output_type": "stream",
     "text": [
      "suggest_uniform has been deprecated in v3.0.0. This feature will be removed in v6.0.0. See https://github.com/optuna/optuna/releases/tag/v3.0.0. Use :func:`~optuna.trial.Trial.suggest_float` instead.\n",
      "suggest_uniform has been deprecated in v3.0.0. This feature will be removed in v6.0.0. See https://github.com/optuna/optuna/releases/tag/v3.0.0. Use :func:`~optuna.trial.Trial.suggest_float` instead.\n",
      "suggest_uniform has been deprecated in v3.0.0. This feature will be removed in v6.0.0. See https://github.com/optuna/optuna/releases/tag/v3.0.0. Use :func:`~optuna.trial.Trial.suggest_float` instead.\n",
      "suggest_loguniform has been deprecated in v3.0.0. This feature will be removed in v6.0.0. See https://github.com/optuna/optuna/releases/tag/v3.0.0. Use :func:`~optuna.trial.Trial.suggest_float` instead.\n",
      "suggest_uniform has been deprecated in v3.0.0. This feature will be removed in v6.0.0. See https://github.com/optuna/optuna/releases/tag/v3.0.0. Use :func:`~optuna.trial.Trial.suggest_float` instead.\n",
      "suggest_uniform has been deprecated in v3.0.0. This feature will be removed in v6.0.0. See https://github.com/optuna/optuna/releases/tag/v3.0.0. Use :func:`~optuna.trial.Trial.suggest_float` instead.\n"
     ]
    },
    {
     "name": "stdout",
     "output_type": "stream",
     "text": [
      "\u001b[32m[I 2022-10-15 19:36:02,619]\u001b[0m Trial 3 finished with value: 0.6658269762992859 and parameters: {'n_estimators': 110, 'max_depth': 12, 'reg_alpha': 0.16783847618452974, 'reg_lambda': 0.996068604840288, 'min_child_weight': 3, 'gamma': 0.7120231766013716, 'learning_rate': 0.4915507240423855, 'colsample_bytree': 0.7130465757307921, 'subsample': 0.6343200826321813}. Best is trial 1 with value: 0.5953853130340576.\u001b[0m\n"
     ]
    },
    {
     "name": "stderr",
     "output_type": "stream",
     "text": [
      "suggest_uniform has been deprecated in v3.0.0. This feature will be removed in v6.0.0. See https://github.com/optuna/optuna/releases/tag/v3.0.0. Use :func:`~optuna.trial.Trial.suggest_float` instead.\n",
      "suggest_uniform has been deprecated in v3.0.0. This feature will be removed in v6.0.0. See https://github.com/optuna/optuna/releases/tag/v3.0.0. Use :func:`~optuna.trial.Trial.suggest_float` instead.\n",
      "suggest_uniform has been deprecated in v3.0.0. This feature will be removed in v6.0.0. See https://github.com/optuna/optuna/releases/tag/v3.0.0. Use :func:`~optuna.trial.Trial.suggest_float` instead.\n",
      "suggest_loguniform has been deprecated in v3.0.0. This feature will be removed in v6.0.0. See https://github.com/optuna/optuna/releases/tag/v3.0.0. Use :func:`~optuna.trial.Trial.suggest_float` instead.\n",
      "suggest_uniform has been deprecated in v3.0.0. This feature will be removed in v6.0.0. See https://github.com/optuna/optuna/releases/tag/v3.0.0. Use :func:`~optuna.trial.Trial.suggest_float` instead.\n",
      "suggest_uniform has been deprecated in v3.0.0. This feature will be removed in v6.0.0. See https://github.com/optuna/optuna/releases/tag/v3.0.0. Use :func:`~optuna.trial.Trial.suggest_float` instead.\n"
     ]
    },
    {
     "name": "stdout",
     "output_type": "stream",
     "text": [
      "\u001b[32m[I 2022-10-15 19:40:24,254]\u001b[0m Trial 4 finished with value: 0.6261729598045349 and parameters: {'n_estimators': 61, 'max_depth': 3, 'reg_alpha': 0.24382562349663806, 'reg_lambda': 1.7302954156979777, 'min_child_weight': 2, 'gamma': 3.8329265320361956, 'learning_rate': 0.33061542365807695, 'colsample_bytree': 0.47547799349012465, 'subsample': 0.7813973899247189}. Best is trial 1 with value: 0.5953853130340576.\u001b[0m\n"
     ]
    },
    {
     "name": "stderr",
     "output_type": "stream",
     "text": [
      "suggest_uniform has been deprecated in v3.0.0. This feature will be removed in v6.0.0. See https://github.com/optuna/optuna/releases/tag/v3.0.0. Use :func:`~optuna.trial.Trial.suggest_float` instead.\n",
      "suggest_uniform has been deprecated in v3.0.0. This feature will be removed in v6.0.0. See https://github.com/optuna/optuna/releases/tag/v3.0.0. Use :func:`~optuna.trial.Trial.suggest_float` instead.\n",
      "suggest_uniform has been deprecated in v3.0.0. This feature will be removed in v6.0.0. See https://github.com/optuna/optuna/releases/tag/v3.0.0. Use :func:`~optuna.trial.Trial.suggest_float` instead.\n",
      "suggest_loguniform has been deprecated in v3.0.0. This feature will be removed in v6.0.0. See https://github.com/optuna/optuna/releases/tag/v3.0.0. Use :func:`~optuna.trial.Trial.suggest_float` instead.\n",
      "suggest_uniform has been deprecated in v3.0.0. This feature will be removed in v6.0.0. See https://github.com/optuna/optuna/releases/tag/v3.0.0. Use :func:`~optuna.trial.Trial.suggest_float` instead.\n",
      "suggest_uniform has been deprecated in v3.0.0. This feature will be removed in v6.0.0. See https://github.com/optuna/optuna/releases/tag/v3.0.0. Use :func:`~optuna.trial.Trial.suggest_float` instead.\n"
     ]
    },
    {
     "name": "stdout",
     "output_type": "stream",
     "text": [
      "\u001b[32m[I 2022-10-15 19:54:33,790]\u001b[0m Trial 5 finished with value: 0.6115846633911133 and parameters: {'n_estimators': 105, 'max_depth': 4, 'reg_alpha': 0.5275207857854123, 'reg_lambda': 0.7837754701362194, 'min_child_weight': 0, 'gamma': 0.8484083496014185, 'learning_rate': 0.13007897914965774, 'colsample_bytree': 0.7567393451501125, 'subsample': 0.6476224011169204}. Best is trial 1 with value: 0.5953853130340576.\u001b[0m\n"
     ]
    },
    {
     "name": "stderr",
     "output_type": "stream",
     "text": [
      "suggest_uniform has been deprecated in v3.0.0. This feature will be removed in v6.0.0. See https://github.com/optuna/optuna/releases/tag/v3.0.0. Use :func:`~optuna.trial.Trial.suggest_float` instead.\n",
      "suggest_uniform has been deprecated in v3.0.0. This feature will be removed in v6.0.0. See https://github.com/optuna/optuna/releases/tag/v3.0.0. Use :func:`~optuna.trial.Trial.suggest_float` instead.\n",
      "suggest_uniform has been deprecated in v3.0.0. This feature will be removed in v6.0.0. See https://github.com/optuna/optuna/releases/tag/v3.0.0. Use :func:`~optuna.trial.Trial.suggest_float` instead.\n",
      "suggest_loguniform has been deprecated in v3.0.0. This feature will be removed in v6.0.0. See https://github.com/optuna/optuna/releases/tag/v3.0.0. Use :func:`~optuna.trial.Trial.suggest_float` instead.\n",
      "suggest_uniform has been deprecated in v3.0.0. This feature will be removed in v6.0.0. See https://github.com/optuna/optuna/releases/tag/v3.0.0. Use :func:`~optuna.trial.Trial.suggest_float` instead.\n",
      "suggest_uniform has been deprecated in v3.0.0. This feature will be removed in v6.0.0. See https://github.com/optuna/optuna/releases/tag/v3.0.0. Use :func:`~optuna.trial.Trial.suggest_float` instead.\n"
     ]
    },
    {
     "name": "stdout",
     "output_type": "stream",
     "text": [
      "\u001b[32m[I 2022-10-15 20:12:03,078]\u001b[0m Trial 6 finished with value: 0.6184650659561157 and parameters: {'n_estimators': 145, 'max_depth': 4, 'reg_alpha': 1.1335354264058322, 'reg_lambda': 0.14970336939161677, 'min_child_weight': 1, 'gamma': 2.550933540829218, 'learning_rate': 0.061469315103736356, 'colsample_bytree': 0.7209150875453469, 'subsample': 0.5129332108759045}. Best is trial 1 with value: 0.5953853130340576.\u001b[0m\n"
     ]
    },
    {
     "name": "stderr",
     "output_type": "stream",
     "text": [
      "suggest_uniform has been deprecated in v3.0.0. This feature will be removed in v6.0.0. See https://github.com/optuna/optuna/releases/tag/v3.0.0. Use :func:`~optuna.trial.Trial.suggest_float` instead.\n",
      "suggest_uniform has been deprecated in v3.0.0. This feature will be removed in v6.0.0. See https://github.com/optuna/optuna/releases/tag/v3.0.0. Use :func:`~optuna.trial.Trial.suggest_float` instead.\n",
      "suggest_uniform has been deprecated in v3.0.0. This feature will be removed in v6.0.0. See https://github.com/optuna/optuna/releases/tag/v3.0.0. Use :func:`~optuna.trial.Trial.suggest_float` instead.\n",
      "suggest_loguniform has been deprecated in v3.0.0. This feature will be removed in v6.0.0. See https://github.com/optuna/optuna/releases/tag/v3.0.0. Use :func:`~optuna.trial.Trial.suggest_float` instead.\n",
      "suggest_uniform has been deprecated in v3.0.0. This feature will be removed in v6.0.0. See https://github.com/optuna/optuna/releases/tag/v3.0.0. Use :func:`~optuna.trial.Trial.suggest_float` instead.\n",
      "suggest_uniform has been deprecated in v3.0.0. This feature will be removed in v6.0.0. See https://github.com/optuna/optuna/releases/tag/v3.0.0. Use :func:`~optuna.trial.Trial.suggest_float` instead.\n"
     ]
    },
    {
     "name": "stdout",
     "output_type": "stream",
     "text": [
      "\u001b[32m[I 2022-10-15 20:49:28,745]\u001b[0m Trial 7 finished with value: 0.6044595241546631 and parameters: {'n_estimators': 122, 'max_depth': 12, 'reg_alpha': 0.0576534032501419, 'reg_lambda': 1.2768422957136776, 'min_child_weight': 2, 'gamma': 2.41979593179285, 'learning_rate': 0.07882537187765906, 'colsample_bytree': 0.40602579046731235, 'subsample': 0.4072476765010114}. Best is trial 1 with value: 0.5953853130340576.\u001b[0m\n"
     ]
    },
    {
     "name": "stderr",
     "output_type": "stream",
     "text": [
      "suggest_uniform has been deprecated in v3.0.0. This feature will be removed in v6.0.0. See https://github.com/optuna/optuna/releases/tag/v3.0.0. Use :func:`~optuna.trial.Trial.suggest_float` instead.\n",
      "suggest_uniform has been deprecated in v3.0.0. This feature will be removed in v6.0.0. See https://github.com/optuna/optuna/releases/tag/v3.0.0. Use :func:`~optuna.trial.Trial.suggest_float` instead.\n",
      "suggest_uniform has been deprecated in v3.0.0. This feature will be removed in v6.0.0. See https://github.com/optuna/optuna/releases/tag/v3.0.0. Use :func:`~optuna.trial.Trial.suggest_float` instead.\n",
      "suggest_loguniform has been deprecated in v3.0.0. This feature will be removed in v6.0.0. See https://github.com/optuna/optuna/releases/tag/v3.0.0. Use :func:`~optuna.trial.Trial.suggest_float` instead.\n",
      "suggest_uniform has been deprecated in v3.0.0. This feature will be removed in v6.0.0. See https://github.com/optuna/optuna/releases/tag/v3.0.0. Use :func:`~optuna.trial.Trial.suggest_float` instead.\n",
      "suggest_uniform has been deprecated in v3.0.0. This feature will be removed in v6.0.0. See https://github.com/optuna/optuna/releases/tag/v3.0.0. Use :func:`~optuna.trial.Trial.suggest_float` instead.\n"
     ]
    },
    {
     "name": "stdout",
     "output_type": "stream",
     "text": [
      "\u001b[32m[I 2022-10-15 20:57:08,661]\u001b[0m Trial 8 finished with value: 0.6267110109329224 and parameters: {'n_estimators': 71, 'max_depth': 4, 'reg_alpha': 3.1504331258891316, 'reg_lambda': 1.0217266453121925, 'min_child_weight': 3, 'gamma': 1.3589742073724476, 'learning_rate': 0.07014077601663371, 'colsample_bytree': 0.6837871893632645, 'subsample': 0.8595687932482545}. Best is trial 1 with value: 0.5953853130340576.\u001b[0m\n"
     ]
    },
    {
     "name": "stderr",
     "output_type": "stream",
     "text": [
      "suggest_uniform has been deprecated in v3.0.0. This feature will be removed in v6.0.0. See https://github.com/optuna/optuna/releases/tag/v3.0.0. Use :func:`~optuna.trial.Trial.suggest_float` instead.\n",
      "suggest_uniform has been deprecated in v3.0.0. This feature will be removed in v6.0.0. See https://github.com/optuna/optuna/releases/tag/v3.0.0. Use :func:`~optuna.trial.Trial.suggest_float` instead.\n",
      "suggest_uniform has been deprecated in v3.0.0. This feature will be removed in v6.0.0. See https://github.com/optuna/optuna/releases/tag/v3.0.0. Use :func:`~optuna.trial.Trial.suggest_float` instead.\n",
      "suggest_loguniform has been deprecated in v3.0.0. This feature will be removed in v6.0.0. See https://github.com/optuna/optuna/releases/tag/v3.0.0. Use :func:`~optuna.trial.Trial.suggest_float` instead.\n",
      "suggest_uniform has been deprecated in v3.0.0. This feature will be removed in v6.0.0. See https://github.com/optuna/optuna/releases/tag/v3.0.0. Use :func:`~optuna.trial.Trial.suggest_float` instead.\n",
      "suggest_uniform has been deprecated in v3.0.0. This feature will be removed in v6.0.0. See https://github.com/optuna/optuna/releases/tag/v3.0.0. Use :func:`~optuna.trial.Trial.suggest_float` instead.\n"
     ]
    },
    {
     "name": "stdout",
     "output_type": "stream",
     "text": [
      "\u001b[32m[I 2022-10-15 21:34:59,083]\u001b[0m Trial 9 finished with value: 0.614905595779419 and parameters: {'n_estimators': 144, 'max_depth': 10, 'reg_alpha': 0.8237338830945804, 'reg_lambda': 0.29682671819137063, 'min_child_weight': 4, 'gamma': 3.7325265671997414, 'learning_rate': 0.40018830994993326, 'colsample_bytree': 0.515539506992019, 'subsample': 0.8740716717828471}. Best is trial 1 with value: 0.5953853130340576.\u001b[0m\n"
     ]
    },
    {
     "name": "stderr",
     "output_type": "stream",
     "text": [
      "suggest_uniform has been deprecated in v3.0.0. This feature will be removed in v6.0.0. See https://github.com/optuna/optuna/releases/tag/v3.0.0. Use :func:`~optuna.trial.Trial.suggest_float` instead.\n",
      "suggest_uniform has been deprecated in v3.0.0. This feature will be removed in v6.0.0. See https://github.com/optuna/optuna/releases/tag/v3.0.0. Use :func:`~optuna.trial.Trial.suggest_float` instead.\n",
      "suggest_uniform has been deprecated in v3.0.0. This feature will be removed in v6.0.0. See https://github.com/optuna/optuna/releases/tag/v3.0.0. Use :func:`~optuna.trial.Trial.suggest_float` instead.\n",
      "suggest_loguniform has been deprecated in v3.0.0. This feature will be removed in v6.0.0. See https://github.com/optuna/optuna/releases/tag/v3.0.0. Use :func:`~optuna.trial.Trial.suggest_float` instead.\n",
      "suggest_uniform has been deprecated in v3.0.0. This feature will be removed in v6.0.0. See https://github.com/optuna/optuna/releases/tag/v3.0.0. Use :func:`~optuna.trial.Trial.suggest_float` instead.\n",
      "suggest_uniform has been deprecated in v3.0.0. This feature will be removed in v6.0.0. See https://github.com/optuna/optuna/releases/tag/v3.0.0. Use :func:`~optuna.trial.Trial.suggest_float` instead.\n"
     ]
    },
    {
     "name": "stdout",
     "output_type": "stream",
     "text": [
      "\u001b[32m[I 2022-10-15 21:36:18,508]\u001b[0m Trial 10 finished with value: 0.7664588093757629 and parameters: {'n_estimators': 5, 'max_depth': 7, 'reg_alpha': 2.747524212968416, 'reg_lambda': 1.999739116896183, 'min_child_weight': 5, 'gamma': 0.06700544050978507, 'learning_rate': 0.11822001860567852, 'colsample_bytree': 0.8926964015940188, 'subsample': 0.7430079814278033}. Best is trial 1 with value: 0.5953853130340576.\u001b[0m\n"
     ]
    },
    {
     "name": "stderr",
     "output_type": "stream",
     "text": [
      "suggest_uniform has been deprecated in v3.0.0. This feature will be removed in v6.0.0. See https://github.com/optuna/optuna/releases/tag/v3.0.0. Use :func:`~optuna.trial.Trial.suggest_float` instead.\n",
      "suggest_uniform has been deprecated in v3.0.0. This feature will be removed in v6.0.0. See https://github.com/optuna/optuna/releases/tag/v3.0.0. Use :func:`~optuna.trial.Trial.suggest_float` instead.\n",
      "suggest_uniform has been deprecated in v3.0.0. This feature will be removed in v6.0.0. See https://github.com/optuna/optuna/releases/tag/v3.0.0. Use :func:`~optuna.trial.Trial.suggest_float` instead.\n",
      "suggest_loguniform has been deprecated in v3.0.0. This feature will be removed in v6.0.0. See https://github.com/optuna/optuna/releases/tag/v3.0.0. Use :func:`~optuna.trial.Trial.suggest_float` instead.\n",
      "suggest_uniform has been deprecated in v3.0.0. This feature will be removed in v6.0.0. See https://github.com/optuna/optuna/releases/tag/v3.0.0. Use :func:`~optuna.trial.Trial.suggest_float` instead.\n",
      "suggest_uniform has been deprecated in v3.0.0. This feature will be removed in v6.0.0. See https://github.com/optuna/optuna/releases/tag/v3.0.0. Use :func:`~optuna.trial.Trial.suggest_float` instead.\n"
     ]
    },
    {
     "name": "stdout",
     "output_type": "stream",
     "text": [
      "\u001b[32m[I 2022-10-15 21:59:44,114]\u001b[0m Trial 11 finished with value: 0.5902111530303955 and parameters: {'n_estimators': 100, 'max_depth': 8, 'reg_alpha': 3.9544361496240295, 'reg_lambda': 1.4564879097654209, 'min_child_weight': 2, 'gamma': 2.1898441837970193, 'learning_rate': 0.0874941129598138, 'colsample_bytree': 0.5921653078570344, 'subsample': 0.4049504573796566}. Best is trial 11 with value: 0.5902111530303955.\u001b[0m\n"
     ]
    },
    {
     "name": "stderr",
     "output_type": "stream",
     "text": [
      "suggest_uniform has been deprecated in v3.0.0. This feature will be removed in v6.0.0. See https://github.com/optuna/optuna/releases/tag/v3.0.0. Use :func:`~optuna.trial.Trial.suggest_float` instead.\n",
      "suggest_uniform has been deprecated in v3.0.0. This feature will be removed in v6.0.0. See https://github.com/optuna/optuna/releases/tag/v3.0.0. Use :func:`~optuna.trial.Trial.suggest_float` instead.\n",
      "suggest_uniform has been deprecated in v3.0.0. This feature will be removed in v6.0.0. See https://github.com/optuna/optuna/releases/tag/v3.0.0. Use :func:`~optuna.trial.Trial.suggest_float` instead.\n",
      "suggest_loguniform has been deprecated in v3.0.0. This feature will be removed in v6.0.0. See https://github.com/optuna/optuna/releases/tag/v3.0.0. Use :func:`~optuna.trial.Trial.suggest_float` instead.\n",
      "suggest_uniform has been deprecated in v3.0.0. This feature will be removed in v6.0.0. See https://github.com/optuna/optuna/releases/tag/v3.0.0. Use :func:`~optuna.trial.Trial.suggest_float` instead.\n",
      "suggest_uniform has been deprecated in v3.0.0. This feature will be removed in v6.0.0. See https://github.com/optuna/optuna/releases/tag/v3.0.0. Use :func:`~optuna.trial.Trial.suggest_float` instead.\n"
     ]
    },
    {
     "name": "stdout",
     "output_type": "stream",
     "text": [
      "\u001b[32m[I 2022-10-15 22:16:27,543]\u001b[0m Trial 12 finished with value: 0.5886867642402649 and parameters: {'n_estimators': 87, 'max_depth': 7, 'reg_alpha': 3.9531279646612876, 'reg_lambda': 1.4404652277686774, 'min_child_weight': 1, 'gamma': 2.2371053192731107, 'learning_rate': 0.1058437683101219, 'colsample_bytree': 0.5843319934674175, 'subsample': 0.41524210741239426}. Best is trial 12 with value: 0.5886867642402649.\u001b[0m\n"
     ]
    },
    {
     "name": "stderr",
     "output_type": "stream",
     "text": [
      "suggest_uniform has been deprecated in v3.0.0. This feature will be removed in v6.0.0. See https://github.com/optuna/optuna/releases/tag/v3.0.0. Use :func:`~optuna.trial.Trial.suggest_float` instead.\n",
      "suggest_uniform has been deprecated in v3.0.0. This feature will be removed in v6.0.0. See https://github.com/optuna/optuna/releases/tag/v3.0.0. Use :func:`~optuna.trial.Trial.suggest_float` instead.\n",
      "suggest_uniform has been deprecated in v3.0.0. This feature will be removed in v6.0.0. See https://github.com/optuna/optuna/releases/tag/v3.0.0. Use :func:`~optuna.trial.Trial.suggest_float` instead.\n",
      "suggest_loguniform has been deprecated in v3.0.0. This feature will be removed in v6.0.0. See https://github.com/optuna/optuna/releases/tag/v3.0.0. Use :func:`~optuna.trial.Trial.suggest_float` instead.\n",
      "suggest_uniform has been deprecated in v3.0.0. This feature will be removed in v6.0.0. See https://github.com/optuna/optuna/releases/tag/v3.0.0. Use :func:`~optuna.trial.Trial.suggest_float` instead.\n",
      "suggest_uniform has been deprecated in v3.0.0. This feature will be removed in v6.0.0. See https://github.com/optuna/optuna/releases/tag/v3.0.0. Use :func:`~optuna.trial.Trial.suggest_float` instead.\n"
     ]
    },
    {
     "name": "stdout",
     "output_type": "stream",
     "text": [
      "\u001b[32m[I 2022-10-15 22:32:37,466]\u001b[0m Trial 13 finished with value: 0.5902649164199829 and parameters: {'n_estimators': 90, 'max_depth': 7, 'reg_alpha': 3.9293591891669726, 'reg_lambda': 1.5037132894664866, 'min_child_weight': 1, 'gamma': 2.343216104319158, 'learning_rate': 0.10166349146229176, 'colsample_bytree': 0.5584176965297539, 'subsample': 0.4112718979454703}. Best is trial 12 with value: 0.5886867642402649.\u001b[0m\n"
     ]
    },
    {
     "name": "stderr",
     "output_type": "stream",
     "text": [
      "suggest_uniform has been deprecated in v3.0.0. This feature will be removed in v6.0.0. See https://github.com/optuna/optuna/releases/tag/v3.0.0. Use :func:`~optuna.trial.Trial.suggest_float` instead.\n",
      "suggest_uniform has been deprecated in v3.0.0. This feature will be removed in v6.0.0. See https://github.com/optuna/optuna/releases/tag/v3.0.0. Use :func:`~optuna.trial.Trial.suggest_float` instead.\n",
      "suggest_uniform has been deprecated in v3.0.0. This feature will be removed in v6.0.0. See https://github.com/optuna/optuna/releases/tag/v3.0.0. Use :func:`~optuna.trial.Trial.suggest_float` instead.\n",
      "suggest_loguniform has been deprecated in v3.0.0. This feature will be removed in v6.0.0. See https://github.com/optuna/optuna/releases/tag/v3.0.0. Use :func:`~optuna.trial.Trial.suggest_float` instead.\n",
      "suggest_uniform has been deprecated in v3.0.0. This feature will be removed in v6.0.0. See https://github.com/optuna/optuna/releases/tag/v3.0.0. Use :func:`~optuna.trial.Trial.suggest_float` instead.\n",
      "suggest_uniform has been deprecated in v3.0.0. This feature will be removed in v6.0.0. See https://github.com/optuna/optuna/releases/tag/v3.0.0. Use :func:`~optuna.trial.Trial.suggest_float` instead.\n"
     ]
    },
    {
     "name": "stdout",
     "output_type": "stream",
     "text": [
      "\u001b[32m[I 2022-10-15 22:54:01,982]\u001b[0m Trial 14 finished with value: 0.5935449600219727 and parameters: {'n_estimators': 94, 'max_depth': 8, 'reg_alpha': 3.955403618320171, 'reg_lambda': 1.5424302126235332, 'min_child_weight': 1, 'gamma': 2.98529517820253, 'learning_rate': 0.19793847127766412, 'colsample_bytree': 0.6037203720290084, 'subsample': 0.49567170425525764}. Best is trial 12 with value: 0.5886867642402649.\u001b[0m\n"
     ]
    },
    {
     "name": "stderr",
     "output_type": "stream",
     "text": [
      "suggest_uniform has been deprecated in v3.0.0. This feature will be removed in v6.0.0. See https://github.com/optuna/optuna/releases/tag/v3.0.0. Use :func:`~optuna.trial.Trial.suggest_float` instead.\n",
      "suggest_uniform has been deprecated in v3.0.0. This feature will be removed in v6.0.0. See https://github.com/optuna/optuna/releases/tag/v3.0.0. Use :func:`~optuna.trial.Trial.suggest_float` instead.\n",
      "suggest_uniform has been deprecated in v3.0.0. This feature will be removed in v6.0.0. See https://github.com/optuna/optuna/releases/tag/v3.0.0. Use :func:`~optuna.trial.Trial.suggest_float` instead.\n",
      "suggest_loguniform has been deprecated in v3.0.0. This feature will be removed in v6.0.0. See https://github.com/optuna/optuna/releases/tag/v3.0.0. Use :func:`~optuna.trial.Trial.suggest_float` instead.\n",
      "suggest_uniform has been deprecated in v3.0.0. This feature will be removed in v6.0.0. See https://github.com/optuna/optuna/releases/tag/v3.0.0. Use :func:`~optuna.trial.Trial.suggest_float` instead.\n",
      "suggest_uniform has been deprecated in v3.0.0. This feature will be removed in v6.0.0. See https://github.com/optuna/optuna/releases/tag/v3.0.0. Use :func:`~optuna.trial.Trial.suggest_float` instead.\n"
     ]
    },
    {
     "name": "stdout",
     "output_type": "stream",
     "text": [
      "\u001b[32m[I 2022-10-15 23:02:17,583]\u001b[0m Trial 15 finished with value: 0.6089979410171509 and parameters: {'n_estimators': 35, 'max_depth': 8, 'reg_alpha': 2.337858641278761, 'reg_lambda': 1.3729735283464513, 'min_child_weight': 1, 'gamma': 1.8468371542552422, 'learning_rate': 0.09354071113475447, 'colsample_bytree': 0.6085171943703451, 'subsample': 0.49366914032788195}. Best is trial 12 with value: 0.5886867642402649.\u001b[0m\n"
     ]
    },
    {
     "name": "stderr",
     "output_type": "stream",
     "text": [
      "suggest_uniform has been deprecated in v3.0.0. This feature will be removed in v6.0.0. See https://github.com/optuna/optuna/releases/tag/v3.0.0. Use :func:`~optuna.trial.Trial.suggest_float` instead.\n",
      "suggest_uniform has been deprecated in v3.0.0. This feature will be removed in v6.0.0. See https://github.com/optuna/optuna/releases/tag/v3.0.0. Use :func:`~optuna.trial.Trial.suggest_float` instead.\n",
      "suggest_uniform has been deprecated in v3.0.0. This feature will be removed in v6.0.0. See https://github.com/optuna/optuna/releases/tag/v3.0.0. Use :func:`~optuna.trial.Trial.suggest_float` instead.\n",
      "suggest_loguniform has been deprecated in v3.0.0. This feature will be removed in v6.0.0. See https://github.com/optuna/optuna/releases/tag/v3.0.0. Use :func:`~optuna.trial.Trial.suggest_float` instead.\n",
      "suggest_uniform has been deprecated in v3.0.0. This feature will be removed in v6.0.0. See https://github.com/optuna/optuna/releases/tag/v3.0.0. Use :func:`~optuna.trial.Trial.suggest_float` instead.\n",
      "suggest_uniform has been deprecated in v3.0.0. This feature will be removed in v6.0.0. See https://github.com/optuna/optuna/releases/tag/v3.0.0. Use :func:`~optuna.trial.Trial.suggest_float` instead.\n"
     ]
    },
    {
     "name": "stdout",
     "output_type": "stream",
     "text": [
      "\u001b[32m[I 2022-10-15 23:19:51,485]\u001b[0m Trial 16 finished with value: 0.5929015278816223 and parameters: {'n_estimators': 91, 'max_depth': 6, 'reg_alpha': 1.9132159326977938, 'reg_lambda': 1.8712201627144107, 'min_child_weight': 0, 'gamma': 1.3864163745448135, 'learning_rate': 0.16202477107800203, 'colsample_bytree': 0.8043373697563081, 'subsample': 0.5581393450061526}. Best is trial 12 with value: 0.5886867642402649.\u001b[0m\n"
     ]
    },
    {
     "name": "stderr",
     "output_type": "stream",
     "text": [
      "suggest_uniform has been deprecated in v3.0.0. This feature will be removed in v6.0.0. See https://github.com/optuna/optuna/releases/tag/v3.0.0. Use :func:`~optuna.trial.Trial.suggest_float` instead.\n",
      "suggest_uniform has been deprecated in v3.0.0. This feature will be removed in v6.0.0. See https://github.com/optuna/optuna/releases/tag/v3.0.0. Use :func:`~optuna.trial.Trial.suggest_float` instead.\n",
      "suggest_uniform has been deprecated in v3.0.0. This feature will be removed in v6.0.0. See https://github.com/optuna/optuna/releases/tag/v3.0.0. Use :func:`~optuna.trial.Trial.suggest_float` instead.\n",
      "suggest_loguniform has been deprecated in v3.0.0. This feature will be removed in v6.0.0. See https://github.com/optuna/optuna/releases/tag/v3.0.0. Use :func:`~optuna.trial.Trial.suggest_float` instead.\n",
      "suggest_uniform has been deprecated in v3.0.0. This feature will be removed in v6.0.0. See https://github.com/optuna/optuna/releases/tag/v3.0.0. Use :func:`~optuna.trial.Trial.suggest_float` instead.\n",
      "suggest_uniform has been deprecated in v3.0.0. This feature will be removed in v6.0.0. See https://github.com/optuna/optuna/releases/tag/v3.0.0. Use :func:`~optuna.trial.Trial.suggest_float` instead.\n"
     ]
    },
    {
     "name": "stdout",
     "output_type": "stream",
     "text": [
      "\u001b[32m[I 2022-10-15 23:52:40,014]\u001b[0m Trial 17 finished with value: 0.5840492844581604 and parameters: {'n_estimators': 122, 'max_depth': 9, 'reg_alpha': 2.617496327029958, 'reg_lambda': 1.67872743795097, 'min_child_weight': 3, 'gamma': 2.9368174775713607, 'learning_rate': 0.14528646750601143, 'colsample_bytree': 0.614040563836038, 'subsample': 0.4470210141820414}. Best is trial 17 with value: 0.5840492844581604.\u001b[0m\n"
     ]
    },
    {
     "name": "stderr",
     "output_type": "stream",
     "text": [
      "suggest_uniform has been deprecated in v3.0.0. This feature will be removed in v6.0.0. See https://github.com/optuna/optuna/releases/tag/v3.0.0. Use :func:`~optuna.trial.Trial.suggest_float` instead.\n",
      "suggest_uniform has been deprecated in v3.0.0. This feature will be removed in v6.0.0. See https://github.com/optuna/optuna/releases/tag/v3.0.0. Use :func:`~optuna.trial.Trial.suggest_float` instead.\n",
      "suggest_uniform has been deprecated in v3.0.0. This feature will be removed in v6.0.0. See https://github.com/optuna/optuna/releases/tag/v3.0.0. Use :func:`~optuna.trial.Trial.suggest_float` instead.\n",
      "suggest_loguniform has been deprecated in v3.0.0. This feature will be removed in v6.0.0. See https://github.com/optuna/optuna/releases/tag/v3.0.0. Use :func:`~optuna.trial.Trial.suggest_float` instead.\n",
      "suggest_uniform has been deprecated in v3.0.0. This feature will be removed in v6.0.0. See https://github.com/optuna/optuna/releases/tag/v3.0.0. Use :func:`~optuna.trial.Trial.suggest_float` instead.\n",
      "suggest_uniform has been deprecated in v3.0.0. This feature will be removed in v6.0.0. See https://github.com/optuna/optuna/releases/tag/v3.0.0. Use :func:`~optuna.trial.Trial.suggest_float` instead.\n"
     ]
    },
    {
     "name": "stdout",
     "output_type": "stream",
     "text": [
      "\u001b[32m[I 2022-10-16 00:21:33,088]\u001b[0m Trial 18 finished with value: 0.6005067229270935 and parameters: {'n_estimators': 123, 'max_depth': 9, 'reg_alpha': 1.3732319090179823, 'reg_lambda': 1.6786502696911665, 'min_child_weight': 4, 'gamma': 2.9470604563027045, 'learning_rate': 0.24687047404065726, 'colsample_bytree': 0.5601735884648671, 'subsample': 0.470799227504032}. Best is trial 17 with value: 0.5840492844581604.\u001b[0m\n"
     ]
    },
    {
     "name": "stderr",
     "output_type": "stream",
     "text": [
      "suggest_uniform has been deprecated in v3.0.0. This feature will be removed in v6.0.0. See https://github.com/optuna/optuna/releases/tag/v3.0.0. Use :func:`~optuna.trial.Trial.suggest_float` instead.\n",
      "suggest_uniform has been deprecated in v3.0.0. This feature will be removed in v6.0.0. See https://github.com/optuna/optuna/releases/tag/v3.0.0. Use :func:`~optuna.trial.Trial.suggest_float` instead.\n",
      "suggest_uniform has been deprecated in v3.0.0. This feature will be removed in v6.0.0. See https://github.com/optuna/optuna/releases/tag/v3.0.0. Use :func:`~optuna.trial.Trial.suggest_float` instead.\n",
      "suggest_loguniform has been deprecated in v3.0.0. This feature will be removed in v6.0.0. See https://github.com/optuna/optuna/releases/tag/v3.0.0. Use :func:`~optuna.trial.Trial.suggest_float` instead.\n",
      "suggest_uniform has been deprecated in v3.0.0. This feature will be removed in v6.0.0. See https://github.com/optuna/optuna/releases/tag/v3.0.0. Use :func:`~optuna.trial.Trial.suggest_float` instead.\n",
      "suggest_uniform has been deprecated in v3.0.0. This feature will be removed in v6.0.0. See https://github.com/optuna/optuna/releases/tag/v3.0.0. Use :func:`~optuna.trial.Trial.suggest_float` instead.\n"
     ]
    },
    {
     "name": "stdout",
     "output_type": "stream",
     "text": [
      "\u001b[32m[I 2022-10-16 00:42:09,037]\u001b[0m Trial 19 finished with value: 0.589117705821991 and parameters: {'n_estimators': 122, 'max_depth': 6, 'reg_alpha': 2.6995047424980925, 'reg_lambda': 1.733136465350547, 'min_child_weight': 3, 'gamma': 3.3822025543093233, 'learning_rate': 0.1615763189451703, 'colsample_bytree': 0.6526792207379208, 'subsample': 0.5573807126494249}. Best is trial 17 with value: 0.5840492844581604.\u001b[0m\n",
      "Best score: 0.5840492844581604\n",
      "Best params: {'n_estimators': 122, 'max_depth': 9, 'reg_alpha': 2.617496327029958, 'reg_lambda': 1.67872743795097, 'min_child_weight': 3, 'gamma': 2.9368174775713607, 'learning_rate': 0.14528646750601143, 'colsample_bytree': 0.614040563836038, 'subsample': 0.4470210141820414}\n",
      "Taken time: 25987\n",
      "Validation set score for RandomForestRegressor = 0.5703297634096598\n",
      "Validation set score for XGBRegressor = 0.5248536\n"
     ]
    }
   ],
   "source": [
    "tsc.compare_models()"
   ]
  },
  {
   "cell_type": "code",
   "execution_count": 16,
   "metadata": {
    "execution": {
     "iopub.execute_input": "2022-10-17T14:02:03.810268Z",
     "iopub.status.busy": "2022-10-17T14:02:03.809930Z",
     "iopub.status.idle": "2022-10-17T14:06:06.648347Z",
     "shell.execute_reply": "2022-10-17T14:06:06.647297Z",
     "shell.execute_reply.started": "2022-10-17T14:02:03.810240Z"
    }
   },
   "outputs": [
    {
     "name": "stdout",
     "output_type": "stream",
     "text": [
      "Final model: XGBRegressor(base_score=None, booster=None, callbacks=None,\n",
      "             colsample_bylevel=None, colsample_bynode=None,\n",
      "             colsample_bytree=0.614040563836038, early_stopping_rounds=None,\n",
      "             enable_categorical=False, eval_metric=None,\n",
      "             gamma=2.9368174775713607, gpu_id=None, grow_policy=None,\n",
      "             importance_type=None, interaction_constraints=None,\n",
      "             learning_rate=0.14528646750601143, max_bin=None,\n",
      "             max_cat_to_onehot=None, max_delta_step=None, max_depth=9,\n",
      "             max_leaves=None, min_child_weight=3, missing=nan,\n",
      "             monotone_constraints=None, n_estimators=122, n_jobs=None,\n",
      "             num_parallel_tree=None, predictor=None, random_state=None,\n",
      "             reg_alpha=2.617496327029958, reg_lambda=1.67872743795097, ...)\n",
      "Fitting...\n",
      "Took 242 seconds to get final predictions\n"
     ]
    }
   ],
   "source": [
    "y_test = tsc.get_predictions()"
   ]
  },
  {
   "cell_type": "code",
   "execution_count": 18,
   "metadata": {
    "execution": {
     "iopub.execute_input": "2022-10-17T09:04:03.955193Z",
     "iopub.status.busy": "2022-10-17T09:04:03.954738Z",
     "iopub.status.idle": "2022-10-17T09:04:04.334445Z",
     "shell.execute_reply": "2022-10-17T09:04:04.333091Z",
     "shell.execute_reply.started": "2022-10-17T09:04:03.955155Z"
    }
   },
   "outputs": [],
   "source": [
    "submission = pd.DataFrame({\n",
    "    \"ID\": np.arange(y_test.shape[0]),\n",
    "    \"item_cnt_month\": y_test\n",
    "})\n",
    "submission.to_csv('s.csv', index=False)"
   ]
  },
  {
   "cell_type": "code",
   "execution_count": 19,
   "metadata": {
    "execution": {
     "iopub.execute_input": "2022-10-17T09:04:07.255882Z",
     "iopub.status.busy": "2022-10-17T09:04:07.255457Z",
     "iopub.status.idle": "2022-10-17T09:21:30.773398Z",
     "shell.execute_reply": "2022-10-17T09:21:30.772222Z",
     "shell.execute_reply.started": "2022-10-17T09:04:07.255849Z"
    }
   },
   "outputs": [
    {
     "name": "stderr",
     "output_type": "stream",
     "text": [
      "ntree_limit is deprecated, use `iteration_range` or model slicing instead.\n"
     ]
    },
    {
     "data": {
      "image/png": "[encoded data removed]",
      "text/plain": [
       "<Figure size 576x468 with 3 Axes>"
      ]
     },
     "metadata": {},
     "output_type": "display_data"
    }
   ],
   "source": [
    "tsc.explain_model(tsc.final_estimator)"
   ]
  },
  {
   "cell_type": "code",
   "execution_count": 19,
   "metadata": {
    "execution": {
     "iopub.execute_input": "2022-10-17T15:28:27.499133Z",
     "iopub.status.busy": "2022-10-17T15:28:27.498755Z",
     "iopub.status.idle": "2022-10-17T15:30:44.856357Z",
     "shell.execute_reply": "2022-10-17T15:30:44.855072Z",
     "shell.execute_reply.started": "2022-10-17T15:28:27.499100Z"
    }
   },
   "outputs": [
    {
     "data": {
      "image/png": "[encoded data removed]",
      "text/plain": [
       "<Figure size 576x684 with 2 Axes>"
      ]
     },
     "metadata": {
      "needs_background": "light"
     },
     "output_type": "display_data"
    }
   ],
   "source": [
    "X_sampled = all_data[all_data['date_block_num'] <= 33].sample(1000000, random_state=10).drop(columns=['item_cnt_month'])\n",
    "tree_explainer = shap.TreeExplainer(tsc.final_estimator)\n",
    "tree_shap_values = tree_explainer.shap_values(X_sampled)\n",
    "shap.summary_plot(tree_shap_values, X_sampled)"
   ]
  },
  {
   "cell_type": "code",
   "execution_count": 20,
   "metadata": {
    "execution": {
     "iopub.execute_input": "2022-10-17T15:30:44.859082Z",
     "iopub.status.busy": "2022-10-17T15:30:44.857947Z",
     "iopub.status.idle": "2022-10-17T15:30:45.755304Z",
     "shell.execute_reply": "2022-10-17T15:30:45.754017Z",
     "shell.execute_reply.started": "2022-10-17T15:30:44.859017Z"
    }
   },
   "outputs": [
    {
     "data": {
      "image/png": "[encoded data removed]",
      "text/plain": [
       "<Figure size 576x684 with 1 Axes>"
      ]
     },
     "metadata": {
      "needs_background": "light"
     },
     "output_type": "display_data"
    }
   ],
   "source": [
    "shap.summary_plot(tree_shap_values, X_sampled, plot_type=\"bar\")"
   ]
  },
  {
   "cell_type": "code",
   "execution_count": 23,
   "metadata": {
    "execution": {
     "iopub.execute_input": "2022-10-17T15:35:40.299241Z",
     "iopub.status.busy": "2022-10-17T15:35:40.298809Z",
     "iopub.status.idle": "2022-10-17T15:35:40.888397Z",
     "shell.execute_reply": "2022-10-17T15:35:40.886870Z",
     "shell.execute_reply.started": "2022-10-17T15:35:40.299207Z"
    }
   },
   "outputs": [
    {
     "data": {
      "text/plain": [
       "<AxesSubplot:title={'center':'Feature importance'}, xlabel='F score', ylabel='Features'>"
      ]
     },
     "execution_count": 23,
     "metadata": {},
     "output_type": "execute_result"
    },
    {
     "data": {
      "image/png": "[encoded data removed]",
      "text/plain": [
       "<Figure size 432x288 with 1 Axes>"
      ]
     },
     "metadata": {
      "needs_background": "light"
     },
     "output_type": "display_data"
    }
   ],
   "source": [
    "from xgboost import plot_importance\n",
    "plot_importance(tsc.final_estimator)"
   ]
  }
 ],
 "metadata": {
  "kernelspec": {
   "display_name": "Python 3 (ipykernel)",
   "language": "python",
   "name": "python3"
  },
  "language_info": {
   "codemirror_mode": {
    "name": "ipython",
    "version": 3
   },
   "file_extension": ".py",
   "mimetype": "text/x-python",
   "name": "python",
   "nbconvert_exporter": "python",
   "pygments_lexer": "ipython3",
   "version": "3.9.7"
  }
 },
 "nbformat": 4,
 "nbformat_minor": 4
}
